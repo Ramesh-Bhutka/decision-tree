{
 "cells": [
  {
   "cell_type": "code",
   "execution_count": 1,
   "metadata": {},
   "outputs": [
    {
     "name": "stderr",
     "output_type": "stream",
     "text": [
      "Loading required package: tibble\n",
      "\n",
      "Loading required package: bitops\n",
      "\n",
      "Rattle: A free graphical interface for data science with R.\n",
      "Version 5.4.0 Copyright (c) 2006-2020 Togaware Pty Ltd.\n",
      "Type 'rattle()' to shake, rattle, and roll your data.\n",
      "\n"
     ]
    }
   ],
   "source": [
    "#Loading libraries\n",
    "library(rpart,quietly = TRUE)\n",
    "library(caret,quietly = TRUE)\n",
    "library(rpart.plot,quietly = TRUE)\n",
    "library(rattle)"
   ]
  },
  {
   "cell_type": "code",
   "execution_count": 2,
   "metadata": {},
   "outputs": [],
   "source": [
    "#Reading the data set as a dataframe\n",
    "mushrooms <- read.csv (\"C:/Users/User/Downloads/datasets/beginner_datasets/mushrooms.csv\")"
   ]
  },
  {
   "cell_type": "code",
   "execution_count": 3,
   "metadata": {},
   "outputs": [
    {
     "name": "stdout",
     "output_type": "stream",
     "text": [
      "'data.frame':\t8124 obs. of  23 variables:\n",
      " $ class                   : chr  \"p\" \"e\" \"e\" \"p\" ...\n",
      " $ cap.shape               : chr  \"x\" \"x\" \"b\" \"x\" ...\n",
      " $ cap.surface             : chr  \"s\" \"s\" \"s\" \"y\" ...\n",
      " $ cap.color               : chr  \"n\" \"y\" \"w\" \"w\" ...\n",
      " $ bruises                 : chr  \"t\" \"t\" \"t\" \"t\" ...\n",
      " $ odor                    : chr  \"p\" \"a\" \"l\" \"p\" ...\n",
      " $ gill.attachment         : chr  \"f\" \"f\" \"f\" \"f\" ...\n",
      " $ gill.spacing            : chr  \"c\" \"c\" \"c\" \"c\" ...\n",
      " $ gill.size               : chr  \"n\" \"b\" \"b\" \"n\" ...\n",
      " $ gill.color              : chr  \"k\" \"k\" \"n\" \"n\" ...\n",
      " $ stalk.shape             : chr  \"e\" \"e\" \"e\" \"e\" ...\n",
      " $ stalk.root              : chr  \"e\" \"c\" \"c\" \"e\" ...\n",
      " $ stalk.surface.above.ring: chr  \"s\" \"s\" \"s\" \"s\" ...\n",
      " $ stalk.surface.below.ring: chr  \"s\" \"s\" \"s\" \"s\" ...\n",
      " $ stalk.color.above.ring  : chr  \"w\" \"w\" \"w\" \"w\" ...\n",
      " $ stalk.color.below.ring  : chr  \"w\" \"w\" \"w\" \"w\" ...\n",
      " $ veil.type               : chr  \"p\" \"p\" \"p\" \"p\" ...\n",
      " $ veil.color              : chr  \"w\" \"w\" \"w\" \"w\" ...\n",
      " $ ring.number             : chr  \"o\" \"o\" \"o\" \"o\" ...\n",
      " $ ring.type               : chr  \"p\" \"p\" \"p\" \"p\" ...\n",
      " $ spore.print.color       : chr  \"k\" \"n\" \"n\" \"k\" ...\n",
      " $ population              : chr  \"s\" \"n\" \"n\" \"s\" ...\n",
      " $ habitat                 : chr  \"u\" \"g\" \"m\" \"u\" ...\n"
     ]
    }
   ],
   "source": [
    "str(mushrooms)"
   ]
  },
  {
   "cell_type": "code",
   "execution_count": 4,
   "metadata": {},
   "outputs": [
    {
     "data": {
      "text/html": [
       "0"
      ],
      "text/latex": [
       "0"
      ],
      "text/markdown": [
       "0"
      ],
      "text/plain": [
       "[1] 0"
      ]
     },
     "metadata": {},
     "output_type": "display_data"
    }
   ],
   "source": [
    "# number of rows with missing values\n",
    "nrow(mushrooms) - sum(complete.cases(mushrooms))"
   ]
  },
  {
   "cell_type": "code",
   "execution_count": 5,
   "metadata": {},
   "outputs": [],
   "source": [
    "# deleting redundant variable `veil.type`\n",
    "mushrooms$veil.type <- NULL"
   ]
  },
  {
   "cell_type": "code",
   "execution_count": 6,
   "metadata": {},
   "outputs": [
    {
     "data": {
      "text/plain": [
       "   \n",
       "       a    c    f    l    m    n    p    s    y\n",
       "  e  400    0    0  400    0 3408    0    0    0\n",
       "  p    0  192 2160    0   36  120  256  576  576"
      ]
     },
     "metadata": {},
     "output_type": "display_data"
    }
   ],
   "source": [
    "# analyzing the odor variable\n",
    "table(mushrooms$class,mushrooms$odor)"
   ]
  },
  {
   "cell_type": "code",
   "execution_count": 7,
   "metadata": {},
   "outputs": [
    {
     "data": {
      "image/png": "[encoded data removed]",
      "text/plain": [
       "Plot with title \"Number of perfect splits vs feature\""
      ]
     },
     "metadata": {
      "image/png": {
       "height": 420,
       "width": 420
      }
     },
     "output_type": "display_data"
    }
   ],
   "source": [
    "number.perfect.splits <- apply(X=mushrooms[-1], MARGIN = 2, FUN = function(col){\n",
    "t <- table(mushrooms$class,col)\n",
    "sum(t == 0)\n",
    "})\n",
    " \n",
    "# Descending order of perfect splits\n",
    "order <- order(number.perfect.splits,decreasing = TRUE)\n",
    "number.perfect.splits <- number.perfect.splits[order]\n",
    " \n",
    "# Plot graph\n",
    "par(mar=c(10,2,2,2))\n",
    "barplot(number.perfect.splits,\n",
    "main=\"Number of perfect splits vs feature\",\n",
    "xlab=\"\",ylab=\"Feature\",las=2,col=\"wheat\")"
   ]
  },
  {
   "cell_type": "code",
   "execution_count": 8,
   "metadata": {},
   "outputs": [],
   "source": [
    "#data splicing\n",
    "set.seed(12345)\n",
    "train <- sample(1:nrow(mushrooms),size = ceiling(0.80*nrow(mushrooms)),replace = FALSE)\n",
    "# training set\n",
    "mushrooms_train <- mushrooms[train,]\n",
    "# test set\n",
    "mushrooms_test <- mushrooms[-train,]"
   ]
  },
  {
   "cell_type": "code",
   "execution_count": 9,
   "metadata": {},
   "outputs": [],
   "source": [
    "# penalty matrix\n",
    "penalty.matrix <- matrix(c(0,1,10,0), byrow=TRUE, nrow=2)"
   ]
  },
  {
   "cell_type": "code",
   "execution_count": 10,
   "metadata": {},
   "outputs": [],
   "source": [
    "# building the classification tree with rpart\n",
    "tree <- rpart(class~.,\n",
    "data=mushrooms_train,\n",
    "parms = list(loss = penalty.matrix),\n",
    "method = \"class\")"
   ]
  },
  {
   "cell_type": "code",
   "execution_count": 11,
   "metadata": {},
   "outputs": [
    {
     "data": {
      "image/png": "[encoded data removed]",
      "text/plain": [
       "plot without title"
      ]
     },
     "metadata": {
      "image/png": {
       "height": 420,
       "width": 420
      }
     },
     "output_type": "display_data"
    }
   ],
   "source": [
    "# Visualize the decision tree with rpart.plot\n",
    "rpart.plot(tree, nn=TRUE)"
   ]
  },
  {
   "cell_type": "code",
   "execution_count": 12,
   "metadata": {},
   "outputs": [],
   "source": [
    "#Testing the model\n",
    "pred <- predict(object=tree,mushrooms_test[-1],type=\"class\")"
   ]
  },
  {
   "cell_type": "code",
   "execution_count": 13,
   "metadata": {},
   "outputs": [],
   "source": [
    "#Calculating accuracy\n",
    "t <- table(mushrooms_test$class,pred) "
   ]
  },
  {
   "cell_type": "code",
   "execution_count": 14,
   "metadata": {},
   "outputs": [
    {
     "data": {
      "text/plain": [
       "Confusion Matrix and Statistics\n",
       "\n",
       "   pred\n",
       "      e   p\n",
       "  e 829   0\n",
       "  p   0 795\n",
       "                                     \n",
       "               Accuracy : 1          \n",
       "                 95% CI : (0.9977, 1)\n",
       "    No Information Rate : 0.5105     \n",
       "    P-Value [Acc > NIR] : < 2.2e-16  \n",
       "                                     \n",
       "                  Kappa : 1          \n",
       "                                     \n",
       " Mcnemar's Test P-Value : NA         \n",
       "                                     \n",
       "            Sensitivity : 1.0000     \n",
       "            Specificity : 1.0000     \n",
       "         Pos Pred Value : 1.0000     \n",
       "         Neg Pred Value : 1.0000     \n",
       "             Prevalence : 0.5105     \n",
       "         Detection Rate : 0.5105     \n",
       "   Detection Prevalence : 0.5105     \n",
       "      Balanced Accuracy : 1.0000     \n",
       "                                     \n",
       "       'Positive' Class : e          \n",
       "                                     "
      ]
     },
     "metadata": {},
     "output_type": "display_data"
    }
   ],
   "source": [
    "#install.packages('e1071', dependencies=TRUE)\n",
    "confusionMatrix(t)"
   ]
  },
  {
   "cell_type": "code",
   "execution_count": null,
   "metadata": {},
   "outputs": [],
   "source": []
  }
 ],
 "metadata": {
  "kernelspec": {
   "display_name": "R",
   "language": "R",
   "name": "ir"
  },
  "language_info": {
   "codemirror_mode": "r",
   "file_extension": ".r",
   "mimetype": "text/x-r-source",
   "name": "R",
   "pygments_lexer": "r",
   "version": "4.0.3"
  }
 },
 "nbformat": 4,
 "nbformat_minor": 4
}

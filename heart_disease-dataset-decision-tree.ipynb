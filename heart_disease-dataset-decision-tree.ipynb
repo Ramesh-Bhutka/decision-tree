{
 "cells": [
  {
   "cell_type": "code",
   "execution_count": 1,
   "metadata": {},
   "outputs": [
    {
     "name": "stderr",
     "output_type": "stream",
     "text": [
      "Loading required package: tibble\n",
      "\n",
      "Loading required package: bitops\n",
      "\n",
      "Rattle: A free graphical interface for data science with R.\n",
      "Version 5.4.0 Copyright (c) 2006-2020 Togaware Pty Ltd.\n",
      "Type 'rattle()' to shake, rattle, and roll your data.\n",
      "\n"
     ]
    }
   ],
   "source": [
    "#Loading libraries\n",
    "library(rpart,quietly = TRUE)\n",
    "library(rpart.plot,quietly = TRUE)\n",
    "library(caret,quietly = TRUE)\n",
    "library(rattle)"
   ]
  },
  {
   "cell_type": "code",
   "execution_count": 2,
   "metadata": {},
   "outputs": [],
   "source": [
    "#find.package('caret')\n",
    "#install.packages('rpart')\n",
    "#install.packages(\"rpart.plot\")\n",
    "#install.packages('rattle')"
   ]
  },
  {
   "cell_type": "code",
   "execution_count": 3,
   "metadata": {},
   "outputs": [],
   "source": [
    "#Reading the data set as a dataframe\n",
    "df <- read.csv (\"C:/Users/User/ML codes/heart_disease.csv\")"
   ]
  },
  {
   "cell_type": "code",
   "execution_count": 4,
   "metadata": {},
   "outputs": [
    {
     "name": "stdout",
     "output_type": "stream",
     "text": [
      "'data.frame':\t270 obs. of  14 variables:\n",
      " $ age                                 : int  70 67 57 64 74 65 56 59 60 63 ...\n",
      " $ sex                                 : int  1 0 1 1 0 1 1 1 1 0 ...\n",
      " $ chest.pain.type                     : int  4 3 2 4 2 4 3 4 4 4 ...\n",
      " $ resting.blood.pressure              : int  130 115 124 128 120 120 130 110 140 150 ...\n",
      " $ serum.cholestoral.in.mg.dl          : int  322 564 261 263 269 177 256 239 293 407 ...\n",
      " $ fasting.blood.sugar...120.mg.dl     : int  0 0 0 0 0 0 1 0 0 0 ...\n",
      " $ resting.electrocardiographic.results: int  2 2 0 0 2 0 2 2 2 2 ...\n",
      " $ maximum.heart.rate.achieved         : int  109 160 141 105 121 140 142 142 170 154 ...\n",
      " $ exercise.induced.angina             : int  0 0 0 1 1 0 1 1 0 0 ...\n",
      " $ oldpeak                             : num  2.4 1.6 0.3 0.2 0.2 0.4 0.6 1.2 1.2 4 ...\n",
      " $ slope.of.peak                       : int  2 2 1 2 1 1 2 2 2 2 ...\n",
      " $ number.of.major.vessels             : int  3 0 0 1 1 0 1 1 2 3 ...\n",
      " $ thal                                : int  3 7 7 7 3 7 6 7 7 7 ...\n",
      " $ Disease                             : int  1 0 1 0 0 0 1 1 1 1 ...\n"
     ]
    }
   ],
   "source": [
    "str(df)"
   ]
  },
  {
   "cell_type": "code",
   "execution_count": 5,
   "metadata": {},
   "outputs": [
    {
     "data": {
      "text/html": [
       "0"
      ],
      "text/latex": [
       "0"
      ],
      "text/markdown": [
       "0"
      ],
      "text/plain": [
       "[1] 0"
      ]
     },
     "metadata": {},
     "output_type": "display_data"
    }
   ],
   "source": [
    "# number of rows with missing values\n",
    "nrow(df) - sum(complete.cases(df))"
   ]
  },
  {
   "cell_type": "code",
   "execution_count": 6,
   "metadata": {},
   "outputs": [
    {
     "data": {
      "text/html": [
       "<table>\n",
       "<caption>A data.frame: 6 × 14</caption>\n",
       "<thead>\n",
       "\t<tr><th></th><th scope=col>age</th><th scope=col>sex</th><th scope=col>chest.pain.type</th><th scope=col>resting.blood.pressure</th><th scope=col>serum.cholestoral.in.mg.dl</th><th scope=col>fasting.blood.sugar...120.mg.dl</th><th scope=col>resting.electrocardiographic.results</th><th scope=col>maximum.heart.rate.achieved</th><th scope=col>exercise.induced.angina</th><th scope=col>oldpeak</th><th scope=col>slope.of.peak</th><th scope=col>number.of.major.vessels</th><th scope=col>thal</th><th scope=col>Disease</th></tr>\n",
       "\t<tr><th></th><th scope=col>&lt;int&gt;</th><th scope=col>&lt;int&gt;</th><th scope=col>&lt;int&gt;</th><th scope=col>&lt;int&gt;</th><th scope=col>&lt;int&gt;</th><th scope=col>&lt;int&gt;</th><th scope=col>&lt;int&gt;</th><th scope=col>&lt;int&gt;</th><th scope=col>&lt;int&gt;</th><th scope=col>&lt;dbl&gt;</th><th scope=col>&lt;int&gt;</th><th scope=col>&lt;int&gt;</th><th scope=col>&lt;int&gt;</th><th scope=col>&lt;int&gt;</th></tr>\n",
       "</thead>\n",
       "<tbody>\n",
       "\t<tr><th scope=row>1</th><td>70</td><td>1</td><td>4</td><td>130</td><td>322</td><td>0</td><td>2</td><td>109</td><td>0</td><td>2.4</td><td>2</td><td>3</td><td>3</td><td>1</td></tr>\n",
       "\t<tr><th scope=row>2</th><td>67</td><td>0</td><td>3</td><td>115</td><td>564</td><td>0</td><td>2</td><td>160</td><td>0</td><td>1.6</td><td>2</td><td>0</td><td>7</td><td>0</td></tr>\n",
       "\t<tr><th scope=row>3</th><td>57</td><td>1</td><td>2</td><td>124</td><td>261</td><td>0</td><td>0</td><td>141</td><td>0</td><td>0.3</td><td>1</td><td>0</td><td>7</td><td>1</td></tr>\n",
       "\t<tr><th scope=row>4</th><td>64</td><td>1</td><td>4</td><td>128</td><td>263</td><td>0</td><td>0</td><td>105</td><td>1</td><td>0.2</td><td>2</td><td>1</td><td>7</td><td>0</td></tr>\n",
       "\t<tr><th scope=row>5</th><td>74</td><td>0</td><td>2</td><td>120</td><td>269</td><td>0</td><td>2</td><td>121</td><td>1</td><td>0.2</td><td>1</td><td>1</td><td>3</td><td>0</td></tr>\n",
       "\t<tr><th scope=row>6</th><td>65</td><td>1</td><td>4</td><td>120</td><td>177</td><td>0</td><td>0</td><td>140</td><td>0</td><td>0.4</td><td>1</td><td>0</td><td>7</td><td>0</td></tr>\n",
       "</tbody>\n",
       "</table>\n"
      ],
      "text/latex": [
       "A data.frame: 6 × 14\n",
       "\\begin{tabular}{r|llllllllllllll}\n",
       "  & age & sex & chest.pain.type & resting.blood.pressure & serum.cholestoral.in.mg.dl & fasting.blood.sugar...120.mg.dl & resting.electrocardiographic.results & maximum.heart.rate.achieved & exercise.induced.angina & oldpeak & slope.of.peak & number.of.major.vessels & thal & Disease\\\\\n",
       "  & <int> & <int> & <int> & <int> & <int> & <int> & <int> & <int> & <int> & <dbl> & <int> & <int> & <int> & <int>\\\\\n",
       "\\hline\n",
       "\t1 & 70 & 1 & 4 & 130 & 322 & 0 & 2 & 109 & 0 & 2.4 & 2 & 3 & 3 & 1\\\\\n",
       "\t2 & 67 & 0 & 3 & 115 & 564 & 0 & 2 & 160 & 0 & 1.6 & 2 & 0 & 7 & 0\\\\\n",
       "\t3 & 57 & 1 & 2 & 124 & 261 & 0 & 0 & 141 & 0 & 0.3 & 1 & 0 & 7 & 1\\\\\n",
       "\t4 & 64 & 1 & 4 & 128 & 263 & 0 & 0 & 105 & 1 & 0.2 & 2 & 1 & 7 & 0\\\\\n",
       "\t5 & 74 & 0 & 2 & 120 & 269 & 0 & 2 & 121 & 1 & 0.2 & 1 & 1 & 3 & 0\\\\\n",
       "\t6 & 65 & 1 & 4 & 120 & 177 & 0 & 0 & 140 & 0 & 0.4 & 1 & 0 & 7 & 0\\\\\n",
       "\\end{tabular}\n"
      ],
      "text/markdown": [
       "\n",
       "A data.frame: 6 × 14\n",
       "\n",
       "| <!--/--> | age &lt;int&gt; | sex &lt;int&gt; | chest.pain.type &lt;int&gt; | resting.blood.pressure &lt;int&gt; | serum.cholestoral.in.mg.dl &lt;int&gt; | fasting.blood.sugar...120.mg.dl &lt;int&gt; | resting.electrocardiographic.results &lt;int&gt; | maximum.heart.rate.achieved &lt;int&gt; | exercise.induced.angina &lt;int&gt; | oldpeak &lt;dbl&gt; | slope.of.peak &lt;int&gt; | number.of.major.vessels &lt;int&gt; | thal &lt;int&gt; | Disease &lt;int&gt; |\n",
       "|---|---|---|---|---|---|---|---|---|---|---|---|---|---|---|\n",
       "| 1 | 70 | 1 | 4 | 130 | 322 | 0 | 2 | 109 | 0 | 2.4 | 2 | 3 | 3 | 1 |\n",
       "| 2 | 67 | 0 | 3 | 115 | 564 | 0 | 2 | 160 | 0 | 1.6 | 2 | 0 | 7 | 0 |\n",
       "| 3 | 57 | 1 | 2 | 124 | 261 | 0 | 0 | 141 | 0 | 0.3 | 1 | 0 | 7 | 1 |\n",
       "| 4 | 64 | 1 | 4 | 128 | 263 | 0 | 0 | 105 | 1 | 0.2 | 2 | 1 | 7 | 0 |\n",
       "| 5 | 74 | 0 | 2 | 120 | 269 | 0 | 2 | 121 | 1 | 0.2 | 1 | 1 | 3 | 0 |\n",
       "| 6 | 65 | 1 | 4 | 120 | 177 | 0 | 0 | 140 | 0 | 0.4 | 1 | 0 | 7 | 0 |\n",
       "\n"
      ],
      "text/plain": [
       "  age sex chest.pain.type resting.blood.pressure serum.cholestoral.in.mg.dl\n",
       "1 70  1   4               130                    322                       \n",
       "2 67  0   3               115                    564                       \n",
       "3 57  1   2               124                    261                       \n",
       "4 64  1   4               128                    263                       \n",
       "5 74  0   2               120                    269                       \n",
       "6 65  1   4               120                    177                       \n",
       "  fasting.blood.sugar...120.mg.dl resting.electrocardiographic.results\n",
       "1 0                               2                                   \n",
       "2 0                               2                                   \n",
       "3 0                               0                                   \n",
       "4 0                               0                                   \n",
       "5 0                               2                                   \n",
       "6 0                               0                                   \n",
       "  maximum.heart.rate.achieved exercise.induced.angina oldpeak slope.of.peak\n",
       "1 109                         0                       2.4     2            \n",
       "2 160                         0                       1.6     2            \n",
       "3 141                         0                       0.3     1            \n",
       "4 105                         1                       0.2     2            \n",
       "5 121                         1                       0.2     1            \n",
       "6 140                         0                       0.4     1            \n",
       "  number.of.major.vessels thal Disease\n",
       "1 3                       3    1      \n",
       "2 0                       7    0      \n",
       "3 0                       7    1      \n",
       "4 1                       7    0      \n",
       "5 1                       3    0      \n",
       "6 0                       7    0      "
      ]
     },
     "metadata": {},
     "output_type": "display_data"
    }
   ],
   "source": [
    "head(df)"
   ]
  },
  {
   "cell_type": "code",
   "execution_count": 8,
   "metadata": {},
   "outputs": [
    {
     "data": {
      "text/plain": [
       "   \n",
       "      0   1\n",
       "  0 150   0\n",
       "  1   0 120"
      ]
     },
     "metadata": {},
     "output_type": "display_data"
    }
   ],
   "source": [
    "# analyzing the class  variable\n",
    "table(df$Disease,df$Disease)"
   ]
  },
  {
   "cell_type": "code",
   "execution_count": 9,
   "metadata": {},
   "outputs": [
    {
     "data": {
      "text/html": [
       "270"
      ],
      "text/latex": [
       "270"
      ],
      "text/markdown": [
       "270"
      ],
      "text/plain": [
       "[1] 270"
      ]
     },
     "metadata": {},
     "output_type": "display_data"
    }
   ],
   "source": [
    "nrow(df)"
   ]
  },
  {
   "cell_type": "code",
   "execution_count": 10,
   "metadata": {},
   "outputs": [],
   "source": [
    "#set seed to ensure reproducible results\n",
    "set.seed(250)\n",
    "#spliting into training and test data sets in 3:1 ratio\n",
    "df[,'train'] <- ifelse(runif(nrow(df))<0.75,1,0)\n",
    "#separate training and test sets\n",
    "train_df <- df[df$train==1,]\n",
    "test_df <- df[df$train==0,]\n",
    "#get column index of train flag\n",
    "df_trainColNum <- grep('train',names(train_df))"
   ]
  },
  {
   "cell_type": "code",
   "execution_count": 11,
   "metadata": {},
   "outputs": [
    {
     "name": "stdout",
     "output_type": "stream",
     "text": [
      "'data.frame':\t214 obs. of  15 variables:\n",
      " $ age                                 : int  70 57 59 60 59 53 44 61 57 71 ...\n",
      " $ sex                                 : int  1 1 1 1 1 1 1 1 0 0 ...\n",
      " $ chest.pain.type                     : int  4 2 4 4 4 4 3 1 4 4 ...\n",
      " $ resting.blood.pressure              : int  130 124 110 140 135 142 140 134 128 112 ...\n",
      " $ serum.cholestoral.in.mg.dl          : int  322 261 239 293 234 226 235 234 303 149 ...\n",
      " $ fasting.blood.sugar...120.mg.dl     : int  0 0 0 0 0 0 0 0 0 0 ...\n",
      " $ resting.electrocardiographic.results: int  2 0 2 2 0 2 2 0 2 0 ...\n",
      " $ maximum.heart.rate.achieved         : int  109 141 142 170 161 111 180 145 159 125 ...\n",
      " $ exercise.induced.angina             : int  0 0 1 0 0 1 0 0 0 0 ...\n",
      " $ oldpeak                             : num  2.4 0.3 1.2 1.2 0.5 0 0 2.6 0 1.6 ...\n",
      " $ slope.of.peak                       : int  2 1 2 2 2 1 1 2 1 2 ...\n",
      " $ number.of.major.vessels             : int  3 0 1 2 0 0 0 2 1 0 ...\n",
      " $ thal                                : int  3 7 7 7 7 7 3 3 3 3 ...\n",
      " $ Disease                             : int  1 1 1 1 0 0 0 1 0 0 ...\n",
      " $ train                               : num  1 1 1 1 1 1 1 1 1 1 ...\n"
     ]
    }
   ],
   "source": [
    "str(train_df)"
   ]
  },
  {
   "cell_type": "code",
   "execution_count": 12,
   "metadata": {},
   "outputs": [
    {
     "name": "stdout",
     "output_type": "stream",
     "text": [
      "'data.frame':\t56 obs. of  15 variables:\n",
      " $ age                                 : int  67 64 74 65 56 63 48 48 51 57 ...\n",
      " $ sex                                 : int  0 1 0 1 1 0 1 0 0 1 ...\n",
      " $ chest.pain.type                     : int  3 4 2 4 3 4 2 3 3 3 ...\n",
      " $ resting.blood.pressure              : int  115 128 120 120 130 150 130 130 120 128 ...\n",
      " $ serum.cholestoral.in.mg.dl          : int  564 263 269 177 256 407 245 275 295 229 ...\n",
      " $ fasting.blood.sugar...120.mg.dl     : int  0 0 0 0 1 0 0 0 0 0 ...\n",
      " $ resting.electrocardiographic.results: int  2 0 2 0 2 2 2 0 2 2 ...\n",
      " $ maximum.heart.rate.achieved         : int  160 105 121 140 142 154 180 139 157 150 ...\n",
      " $ exercise.induced.angina             : int  0 1 1 0 1 0 0 0 0 0 ...\n",
      " $ oldpeak                             : num  1.6 0.2 0.2 0.4 0.6 4 0.2 0.2 0.6 0.4 ...\n",
      " $ slope.of.peak                       : int  2 2 1 1 2 2 2 1 1 2 ...\n",
      " $ number.of.major.vessels             : int  0 1 1 0 1 3 0 0 0 1 ...\n",
      " $ thal                                : int  7 7 3 7 6 7 3 3 3 7 ...\n",
      " $ Disease                             : int  0 0 0 0 1 1 0 0 0 1 ...\n",
      " $ train                               : num  0 0 0 0 0 0 0 0 0 0 ...\n"
     ]
    }
   ],
   "source": [
    "str(test_df)"
   ]
  },
  {
   "cell_type": "code",
   "execution_count": 13,
   "metadata": {},
   "outputs": [],
   "source": [
    "number.perfect.splits <- apply(X=df[-1], MARGIN = 2, FUN = function(col){\n",
    "t <- table(df$Disease,col)\n",
    "sum(t == 0)\n",
    "})"
   ]
  },
  {
   "cell_type": "code",
   "execution_count": 14,
   "metadata": {},
   "outputs": [],
   "source": [
    "# Descending order of perfect splits\n",
    "order <- order(number.perfect.splits,decreasing = TRUE)\n",
    "number.perfect.splits <- number.perfect.splits[order]"
   ]
  },
  {
   "cell_type": "code",
   "execution_count": 15,
   "metadata": {},
   "outputs": [
    {
     "data": {
      "image/png": "[encoded data removed]",
      "text/plain": [
       "Plot with title \"Number of perfect splits vs feature\""
      ]
     },
     "metadata": {
      "image/png": {
       "height": 420,
       "width": 420
      }
     },
     "output_type": "display_data"
    }
   ],
   "source": [
    "# Plot graph\n",
    "#par(mar=c(10,2,2,2))\n",
    "barplot(number.perfect.splits,main=\"Number of perfect splits vs feature\",\n",
    "xlab=\"\",ylab=\"Feature\",las=2,border=\"red\",col=\"blue\",density=10)"
   ]
  },
  {
   "cell_type": "code",
   "execution_count": 16,
   "metadata": {},
   "outputs": [],
   "source": [
    "#data splicing\n",
    "set.seed(12345)\n",
    "train <- sample(1:nrow(df),size = ceiling(0.80*nrow(df)),replace = FALSE)\n",
    "# training set\n",
    "df_train <- df[train,]\n",
    "# test set\n",
    "df_test <- df[-train,]"
   ]
  },
  {
   "cell_type": "code",
   "execution_count": 20,
   "metadata": {},
   "outputs": [],
   "source": [
    "# building the classification tree with rpart\n",
    "tree <- rpart(Disease~.,data=df_train, method = \"class\")"
   ]
  },
  {
   "cell_type": "code",
   "execution_count": 22,
   "metadata": {},
   "outputs": [
    {
     "data": {
      "image/png": "[encoded data removed]",
      "text/plain": [
       "plot without title"
      ]
     },
     "metadata": {
      "image/png": {
       "height": 420,
       "width": 420
      }
     },
     "output_type": "display_data"
    }
   ],
   "source": [
    "#Obtaining the train and test data set\n",
    "#remove train flag column from train and test sets\n",
    "train_df <- train_df[,-df_trainColNum]\n",
    "test_df <- test_df[,-df_trainColNum]\n",
    "#Get column index of predicted variable in dataset\n",
    "typeColNum_df <- grep('Disease',names(df))\n",
    "#Constructing the required Decision tree model\n",
    "rpart_model_df <- rpart(Disease~.,data = train_df, method= 'class')\n",
    "# Plotting the tree\n",
    "plot(rpart_model_df)\n",
    "text(rpart_model_df)"
   ]
  },
  {
   "cell_type": "code",
   "execution_count": 23,
   "metadata": {},
   "outputs": [
    {
     "data": {
      "image/png": "[encoded data removed]",
      "text/plain": [
       "plot without title"
      ]
     },
     "metadata": {
      "image/png": {
       "height": 420,
       "width": 420
      }
     },
     "output_type": "display_data"
    }
   ],
   "source": [
    "# Visualize the decision tree with rpart.plot\n",
    "rpart.plot(tree, nn=TRUE, cex=1, box.palette = \"auto\")"
   ]
  },
  {
   "cell_type": "code",
   "execution_count": 24,
   "metadata": {},
   "outputs": [
    {
     "data": {
      "text/plain": [
       "v\n",
       "  0   1 \n",
       "150 120 "
      ]
     },
     "metadata": {},
     "output_type": "display_data"
    }
   ],
   "source": [
    "#There are three level in the class variable, 1 as setosa and 2 as versicolor\n",
    "#3 as Virginica\n",
    "v<-df$Disease\n",
    "table(v)"
   ]
  },
  {
   "cell_type": "code",
   "execution_count": 25,
   "metadata": {},
   "outputs": [
    {
     "ename": "ERROR",
     "evalue": "Error in parse(text = x, srcfile = src): <text>:1:3: unexpected string constant\n12: str(test_df)\n13: \"\n      ^\n",
     "output_type": "error",
     "traceback": [
      "Error in parse(text = x, srcfile = src): <text>:1:3: unexpected string constant\n12: str(test_df)\n13: \"\n      ^\nTraceback:\n"
     ]
    }
   ],
   "source": [
    "\"\"\"\n",
    "#set seed to ensure reproducible results\n",
    "set.seed(250)\n",
    "#spliting into training and test data sets in 3:1 ratio\n",
    "df[,'train'] <- ifelse(runif(nrow(df))<0.75,1,0)\n",
    "#separate training and test sets\n",
    "train_df <- df[df$train==1,]\n",
    "test_df <- df[df$train==0,]\n",
    "#get column index of train flag\n",
    "df_trainColNum <- grep('train',names(train_df))\n",
    "\n",
    "str(test_df)\n",
    "\"\"\""
   ]
  },
  {
   "cell_type": "code",
   "execution_count": 26,
   "metadata": {},
   "outputs": [
    {
     "name": "stdout",
     "output_type": "stream",
     "text": [
      "Call:\n",
      "rpart(formula = Disease ~ ., data = train_df, method = \"class\")\n",
      "  n= 214 \n",
      "\n",
      "          CP nsplit rel error    xerror       xstd\n",
      "1 0.49484536      0 1.0000000 1.0000000 0.07507584\n",
      "2 0.06185567      1 0.5051546 0.5773196 0.06628938\n",
      "3 0.04123711      2 0.4432990 0.6288660 0.06808195\n",
      "4 0.02577320      4 0.3608247 0.5773196 0.06628938\n",
      "5 0.02061856      6 0.3092784 0.5773196 0.06628938\n",
      "6 0.01030928      7 0.2886598 0.5463918 0.06509869\n",
      "7 0.01000000      8 0.2783505 0.5154639 0.06381581\n",
      "\n",
      "Variable importance\n",
      "                       thal                     oldpeak \n",
      "                         25                          16 \n",
      "            chest.pain.type maximum.heart.rate.achieved \n",
      "                         12                          11 \n",
      "    number.of.major.vessels     exercise.induced.angina \n",
      "                         10                           8 \n",
      "                        sex                         age \n",
      "                          6                           5 \n",
      "     resting.blood.pressure  serum.cholestoral.in.mg.dl \n",
      "                          3                           3 \n",
      "              slope.of.peak \n",
      "                          2 \n",
      "\n",
      "Node number 1: 214 observations,    complexity param=0.4948454\n",
      "  predicted class=0  expected loss=0.453271  P(node) =1\n",
      "    class counts:   117    97\n",
      "   probabilities: 0.547 0.453 \n",
      "  left son=2 (122 obs) right son=3 (92 obs)\n",
      "  Primary splits:\n",
      "      thal                    < 4.5   to the left,  improve=30.53798, (0 missing)\n",
      "      chest.pain.type         < 3.5   to the left,  improve=25.91953, (0 missing)\n",
      "      number.of.major.vessels < 0.5   to the left,  improve=24.34212, (0 missing)\n",
      "      oldpeak                 < 1.7   to the left,  improve=22.07058, (0 missing)\n",
      "      exercise.induced.angina < 0.5   to the left,  improve=18.37327, (0 missing)\n",
      "  Surrogate splits:\n",
      "      sex                         < 0.5   to the left,  agree=0.673, adj=0.239, (0 split)\n",
      "      exercise.induced.angina     < 0.5   to the left,  agree=0.668, adj=0.228, (0 split)\n",
      "      chest.pain.type             < 3.5   to the left,  agree=0.659, adj=0.207, (0 split)\n",
      "      maximum.heart.rate.achieved < 147.5 to the right, agree=0.659, adj=0.207, (0 split)\n",
      "      oldpeak                     < 1.7   to the left,  agree=0.650, adj=0.185, (0 split)\n",
      "\n",
      "Node number 2: 122 observations,    complexity param=0.06185567\n",
      "  predicted class=0  expected loss=0.2213115  P(node) =0.5700935\n",
      "    class counts:    95    27\n",
      "   probabilities: 0.779 0.221 \n",
      "  left son=4 (104 obs) right son=5 (18 obs)\n",
      "  Primary splits:\n",
      "      oldpeak                 < 1.7   to the left,  improve=8.376103, (0 missing)\n",
      "      number.of.major.vessels < 0.5   to the left,  improve=6.023743, (0 missing)\n",
      "      chest.pain.type         < 3.5   to the left,  improve=5.502752, (0 missing)\n",
      "      age                     < 53.5  to the left,  improve=4.261717, (0 missing)\n",
      "      exercise.induced.angina < 0.5   to the left,  improve=3.357003, (0 missing)\n",
      "  Surrogate splits:\n",
      "      maximum.heart.rate.achieved < 114.5 to the right, agree=0.869, adj=0.111, (0 split)\n",
      "      slope.of.peak               < 2.5   to the left,  agree=0.861, adj=0.056, (0 split)\n",
      "\n",
      "Node number 3: 92 observations,    complexity param=0.04123711\n",
      "  predicted class=1  expected loss=0.2391304  P(node) =0.4299065\n",
      "    class counts:    22    70\n",
      "   probabilities: 0.239 0.761 \n",
      "  left son=6 (41 obs) right son=7 (51 obs)\n",
      "  Primary splits:\n",
      "      number.of.major.vessels     < 0.5   to the left,  improve=7.440958, (0 missing)\n",
      "      chest.pain.type             < 3.5   to the left,  improve=7.174718, (0 missing)\n",
      "      maximum.heart.rate.achieved < 146.5 to the right, improve=6.636305, (0 missing)\n",
      "      oldpeak                     < 0.55  to the left,  improve=5.478261, (0 missing)\n",
      "      exercise.induced.angina     < 0.5   to the left,  improve=3.976606, (0 missing)\n",
      "  Surrogate splits:\n",
      "      age                         < 53.5  to the left,  agree=0.717, adj=0.366, (0 split)\n",
      "      chest.pain.type             < 2.5   to the left,  agree=0.663, adj=0.244, (0 split)\n",
      "      maximum.heart.rate.achieved < 147.5 to the right, agree=0.641, adj=0.195, (0 split)\n",
      "      serum.cholestoral.in.mg.dl  < 204.5 to the left,  agree=0.620, adj=0.146, (0 split)\n",
      "      oldpeak                     < 0.55  to the left,  agree=0.620, adj=0.146, (0 split)\n",
      "\n",
      "Node number 4: 104 observations,    complexity param=0.0257732\n",
      "  predicted class=0  expected loss=0.1442308  P(node) =0.4859813\n",
      "    class counts:    89    15\n",
      "   probabilities: 0.856 0.144 \n",
      "  left son=8 (72 obs) right son=9 (32 obs)\n",
      "  Primary splits:\n",
      "      chest.pain.type            < 3.5   to the left,  improve=2.617521, (0 missing)\n",
      "      number.of.major.vessels    < 0.5   to the left,  improve=2.406160, (0 missing)\n",
      "      exercise.induced.angina    < 0.5   to the left,  improve=1.770440, (0 missing)\n",
      "      serum.cholestoral.in.mg.dl < 272   to the left,  improve=1.686545, (0 missing)\n",
      "      age                        < 55.5  to the left,  improve=1.241433, (0 missing)\n",
      "  Surrogate splits:\n",
      "      maximum.heart.rate.achieved < 180.5 to the left,  agree=0.721, adj=0.094, (0 split)\n",
      "      exercise.induced.angina     < 0.5   to the left,  agree=0.721, adj=0.094, (0 split)\n",
      "      resting.blood.pressure      < 167   to the left,  agree=0.712, adj=0.063, (0 split)\n",
      "\n",
      "Node number 5: 18 observations\n",
      "  predicted class=1  expected loss=0.3333333  P(node) =0.08411215\n",
      "    class counts:     6    12\n",
      "   probabilities: 0.333 0.667 \n",
      "\n",
      "Node number 6: 41 observations,    complexity param=0.04123711\n",
      "  predicted class=1  expected loss=0.4634146  P(node) =0.1915888\n",
      "    class counts:    19    22\n",
      "   probabilities: 0.463 0.537 \n",
      "  left son=12 (20 obs) right son=13 (21 obs)\n",
      "  Primary splits:\n",
      "      chest.pain.type             < 3.5   to the left,  improve=4.371196, (0 missing)\n",
      "      oldpeak                     < 0.85  to the left,  improve=4.371196, (0 missing)\n",
      "      maximum.heart.rate.achieved < 144.5 to the right, improve=4.369080, (0 missing)\n",
      "      exercise.induced.angina     < 0.5   to the left,  improve=3.022597, (0 missing)\n",
      "      serum.cholestoral.in.mg.dl  < 272   to the left,  improve=2.987945, (0 missing)\n",
      "  Surrogate splits:\n",
      "      maximum.heart.rate.achieved < 144.5 to the right, agree=0.683, adj=0.35, (0 split)\n",
      "      resting.blood.pressure      < 127.5 to the left,  agree=0.659, adj=0.30, (0 split)\n",
      "      exercise.induced.angina     < 0.5   to the left,  agree=0.659, adj=0.30, (0 split)\n",
      "      age                         < 51.5  to the right, agree=0.610, adj=0.20, (0 split)\n",
      "      serum.cholestoral.in.mg.dl  < 227.5 to the right, agree=0.610, adj=0.20, (0 split)\n",
      "\n",
      "Node number 7: 51 observations\n",
      "  predicted class=1  expected loss=0.05882353  P(node) =0.2383178\n",
      "    class counts:     3    48\n",
      "   probabilities: 0.059 0.941 \n",
      "\n",
      "Node number 8: 72 observations\n",
      "  predicted class=0  expected loss=0.06944444  P(node) =0.3364486\n",
      "    class counts:    67     5\n",
      "   probabilities: 0.931 0.069 \n",
      "\n",
      "Node number 9: 32 observations,    complexity param=0.0257732\n",
      "  predicted class=0  expected loss=0.3125  P(node) =0.1495327\n",
      "    class counts:    22    10\n",
      "   probabilities: 0.688 0.312 \n",
      "  left son=18 (23 obs) right son=19 (9 obs)\n",
      "  Primary splits:\n",
      "      number.of.major.vessels    < 0.5   to the left,  improve=5.421498, (0 missing)\n",
      "      exercise.induced.angina    < 0.5   to the left,  improve=2.404545, (0 missing)\n",
      "      age                        < 51.5  to the left,  improve=1.432540, (0 missing)\n",
      "      sex                        < 0.5   to the left,  improve=1.000000, (0 missing)\n",
      "      serum.cholestoral.in.mg.dl < 280.5 to the left,  improve=0.750000, (0 missing)\n",
      "  Surrogate splits:\n",
      "      age                    < 66.5  to the left,  agree=0.781, adj=0.222, (0 split)\n",
      "      resting.blood.pressure < 111   to the right, agree=0.750, adj=0.111, (0 split)\n",
      "\n",
      "Node number 12: 20 observations,    complexity param=0.01030928\n",
      "  predicted class=0  expected loss=0.3  P(node) =0.09345794\n",
      "    class counts:    14     6\n",
      "   probabilities: 0.700 0.300 \n",
      "  left son=24 (13 obs) right son=25 (7 obs)\n",
      "  Primary splits:\n",
      "      age                        < 55    to the left,  improve=1.5868130, (0 missing)\n",
      "      serum.cholestoral.in.mg.dl < 259.5 to the left,  improve=1.0666670, (0 missing)\n",
      "      oldpeak                    < 0.9   to the left,  improve=0.6828283, (0 missing)\n",
      "      slope.of.peak              < 1.5   to the left,  improve=0.5318681, (0 missing)\n",
      "      resting.blood.pressure     < 122   to the left,  improve=0.4000000, (0 missing)\n",
      "  Surrogate splits:\n",
      "      maximum.heart.rate.achieved          < 155   to the right, agree=0.80, adj=0.429, (0 split)\n",
      "      resting.blood.pressure               < 161   to the left,  agree=0.75, adj=0.286, (0 split)\n",
      "      serum.cholestoral.in.mg.dl           < 259.5 to the left,  agree=0.75, adj=0.286, (0 split)\n",
      "      resting.electrocardiographic.results < 1     to the left,  agree=0.75, adj=0.286, (0 split)\n",
      "      oldpeak                              < 1.5   to the left,  agree=0.75, adj=0.286, (0 split)\n",
      "\n",
      "Node number 13: 21 observations,    complexity param=0.02061856\n",
      "  predicted class=1  expected loss=0.2380952  P(node) =0.09813084\n",
      "    class counts:     5    16\n",
      "   probabilities: 0.238 0.762 \n",
      "  left son=26 (8 obs) right son=27 (13 obs)\n",
      "  Primary splits:\n",
      "      oldpeak                              < 0.65  to the left,  improve=3.869048, (0 missing)\n",
      "      serum.cholestoral.in.mg.dl           < 238.5 to the left,  improve=1.785714, (0 missing)\n",
      "      resting.electrocardiographic.results < 1     to the left,  improve=1.341270, (0 missing)\n",
      "      age                                  < 52    to the right, improve=1.341270, (0 missing)\n",
      "      maximum.heart.rate.achieved          < 147   to the right, improve=1.341270, (0 missing)\n",
      "  Surrogate splits:\n",
      "      maximum.heart.rate.achieved < 147   to the right, agree=0.857, adj=0.625, (0 split)\n",
      "      exercise.induced.angina     < 0.5   to the left,  agree=0.762, adj=0.375, (0 split)\n",
      "      slope.of.peak               < 1.5   to the left,  agree=0.762, adj=0.375, (0 split)\n",
      "      resting.blood.pressure      < 114   to the left,  agree=0.714, adj=0.250, (0 split)\n",
      "      serum.cholestoral.in.mg.dl  < 238.5 to the left,  agree=0.714, adj=0.250, (0 split)\n",
      "\n",
      "Node number 18: 23 observations\n",
      "  predicted class=0  expected loss=0.1304348  P(node) =0.1074766\n",
      "    class counts:    20     3\n",
      "   probabilities: 0.870 0.130 \n",
      "\n",
      "Node number 19: 9 observations\n",
      "  predicted class=1  expected loss=0.2222222  P(node) =0.04205607\n",
      "    class counts:     2     7\n",
      "   probabilities: 0.222 0.778 \n",
      "\n",
      "Node number 24: 13 observations\n",
      "  predicted class=0  expected loss=0.1538462  P(node) =0.06074766\n",
      "    class counts:    11     2\n",
      "   probabilities: 0.846 0.154 \n",
      "\n",
      "Node number 25: 7 observations\n",
      "  predicted class=1  expected loss=0.4285714  P(node) =0.03271028\n",
      "    class counts:     3     4\n",
      "   probabilities: 0.429 0.571 \n",
      "\n",
      "Node number 26: 8 observations\n",
      "  predicted class=0  expected loss=0.375  P(node) =0.03738318\n",
      "    class counts:     5     3\n",
      "   probabilities: 0.625 0.375 \n",
      "\n",
      "Node number 27: 13 observations\n",
      "  predicted class=1  expected loss=0  P(node) =0.06074766\n",
      "    class counts:     0    13\n",
      "   probabilities: 0.000 1.000 \n",
      "\n"
     ]
    }
   ],
   "source": [
    "summary(rpart_model_df)"
   ]
  },
  {
   "cell_type": "code",
   "execution_count": 27,
   "metadata": {},
   "outputs": [
    {
     "data": {
      "text/html": [
       "0.732142857142857"
      ],
      "text/latex": [
       "0.732142857142857"
      ],
      "text/markdown": [
       "0.732142857142857"
      ],
      "text/plain": [
       "[1] 0.7321429"
      ]
     },
     "metadata": {},
     "output_type": "display_data"
    }
   ],
   "source": [
    "#Checking how good the model is\n",
    "rpart_predict_df<- predict(rpart_model_df,test_df[,-typeColNum_df],type='class')\n",
    "mn_df <- mean(rpart_predict_df==test_df$Disease)\n",
    "mn_df"
   ]
  },
  {
   "cell_type": "code",
   "execution_count": 28,
   "metadata": {},
   "outputs": [
    {
     "data": {
      "text/plain": [
       "    true\n",
       "pred  0  1\n",
       "   0 22  4\n",
       "   1 11 19"
      ]
     },
     "metadata": {},
     "output_type": "display_data"
    }
   ],
   "source": [
    "# Constructing the confusion matrix to find out the efficiency of the model\n",
    "table(pred=rpart_predict_df,true=test_df$Disease)"
   ]
  },
  {
   "cell_type": "code",
   "execution_count": 29,
   "metadata": {},
   "outputs": [],
   "source": [
    "# Constructing the confusion matrix to find out the efficiency of the model\n",
    "t <- table(test_df$Disease,rpart_predict_df)"
   ]
  },
  {
   "cell_type": "code",
   "execution_count": 30,
   "metadata": {},
   "outputs": [
    {
     "data": {
      "text/plain": [
       "Confusion Matrix and Statistics\n",
       "\n",
       "   rpart_predict_df\n",
       "     0  1\n",
       "  0 22 11\n",
       "  1  4 19\n",
       "                                         \n",
       "               Accuracy : 0.7321         \n",
       "                 95% CI : (0.597, 0.8417)\n",
       "    No Information Rate : 0.5357         \n",
       "    P-Value [Acc > NIR] : 0.002062       \n",
       "                                         \n",
       "                  Kappa : 0.471          \n",
       "                                         \n",
       " Mcnemar's Test P-Value : 0.121335       \n",
       "                                         \n",
       "            Sensitivity : 0.8462         \n",
       "            Specificity : 0.6333         \n",
       "         Pos Pred Value : 0.6667         \n",
       "         Neg Pred Value : 0.8261         \n",
       "             Prevalence : 0.4643         \n",
       "         Detection Rate : 0.3929         \n",
       "   Detection Prevalence : 0.5893         \n",
       "      Balanced Accuracy : 0.7397         \n",
       "                                         \n",
       "       'Positive' Class : 0              \n",
       "                                         "
      ]
     },
     "metadata": {},
     "output_type": "display_data"
    }
   ],
   "source": [
    "#install.packages('e1071', dependencies=TRUE)\n",
    "confusionMatrix(t)"
   ]
  },
  {
   "cell_type": "code",
   "execution_count": null,
   "metadata": {},
   "outputs": [],
   "source": []
  }
 ],
 "metadata": {
  "kernelspec": {
   "display_name": "R",
   "language": "R",
   "name": "ir"
  },
  "language_info": {
   "codemirror_mode": "r",
   "file_extension": ".r",
   "mimetype": "text/x-r-source",
   "name": "R",
   "pygments_lexer": "r",
   "version": "4.0.3"
  }
 },
 "nbformat": 4,
 "nbformat_minor": 4
}

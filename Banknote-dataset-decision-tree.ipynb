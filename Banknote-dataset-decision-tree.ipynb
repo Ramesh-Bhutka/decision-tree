{
 "cells": [
  {
   "cell_type": "markdown",
   "metadata": {},
   "source": [
    "\n",
    "\n",
    "https://machinelearningmastery.com/standard-machine-learning-datasets/\n",
    "\n",
    "The Banknote Dataset involves predicting whether a given banknote is authentic given a number of measures taken from a photograph.\n",
    "\n",
    "It is a binary (2-class) classification problem. The number of observations for each class is not balanced. There are 1,372 observations with 4 input variables and 1 output variable. The variable names are as follows:\n",
    "\n",
    "1. Variance of Wavelet Transformed image (continuous).\n",
    "2. Skewness of Wavelet Transformed image (continuous).\n",
    "3. Kurtosis of Wavelet Transformed image (continuous).\n",
    "4. Entropy of image (continuous).\n",
    "5. Class (0 for authentic, 1 for inauthentic).\n",
    "\n"
   ]
  },
  {
   "cell_type": "code",
   "execution_count": 1,
   "metadata": {},
   "outputs": [
    {
     "name": "stderr",
     "output_type": "stream",
     "text": [
      "Loading required package: tibble\n",
      "\n",
      "Loading required package: bitops\n",
      "\n",
      "Rattle: A free graphical interface for data science with R.\n",
      "Version 5.4.0 Copyright (c) 2006-2020 Togaware Pty Ltd.\n",
      "Type 'rattle()' to shake, rattle, and roll your data.\n",
      "\n"
     ]
    }
   ],
   "source": [
    "#Loading libraries\n",
    "library(rpart,quietly = TRUE)\n",
    "library(rpart.plot,quietly = TRUE)\n",
    "library(caret,quietly = TRUE)\n",
    "library(rattle)"
   ]
  },
  {
   "cell_type": "code",
   "execution_count": 2,
   "metadata": {},
   "outputs": [],
   "source": [
    "#find.package('caret')\n",
    "#install.packages('rpart')\n",
    "#install.packages(\"rpart.plot\")\n",
    "#install.packages('rattle')"
   ]
  },
  {
   "cell_type": "code",
   "execution_count": 3,
   "metadata": {},
   "outputs": [],
   "source": [
    "#Reading the data set as a dataframe\n",
    "df <- read.csv (\"https://raw.githubusercontent.com/Ramesh-Bhutka/decision--tree/main/BankNote_Authentication.csv\")"
   ]
  },
  {
   "cell_type": "code",
   "execution_count": 4,
   "metadata": {},
   "outputs": [
    {
     "name": "stdout",
     "output_type": "stream",
     "text": [
      "'data.frame':\t1372 obs. of  5 variables:\n",
      " $ variance: num  3.622 4.546 3.866 3.457 0.329 ...\n",
      " $ skewness: num  8.67 8.17 -2.64 9.52 -4.46 ...\n",
      " $ curtosis: num  -2.81 -2.46 1.92 -4.01 4.57 ...\n",
      " $ entropy : num  -0.447 -1.462 0.106 -3.594 -0.989 ...\n",
      " $ class   : int  0 0 0 0 0 0 0 0 0 0 ...\n"
     ]
    }
   ],
   "source": [
    "str(df)"
   ]
  },
  {
   "cell_type": "code",
   "execution_count": 5,
   "metadata": {},
   "outputs": [
    {
     "data": {
      "text/html": [
       "0"
      ],
      "text/latex": [
       "0"
      ],
      "text/markdown": [
       "0"
      ],
      "text/plain": [
       "[1] 0"
      ]
     },
     "metadata": {},
     "output_type": "display_data"
    }
   ],
   "source": [
    "# number of rows with missing values\n",
    "nrow(df) - sum(complete.cases(df))"
   ]
  },
  {
   "cell_type": "code",
   "execution_count": 6,
   "metadata": {},
   "outputs": [
    {
     "data": {
      "text/html": [
       "<table>\n",
       "<caption>A data.frame: 6 × 5</caption>\n",
       "<thead>\n",
       "\t<tr><th></th><th scope=col>variance</th><th scope=col>skewness</th><th scope=col>curtosis</th><th scope=col>entropy</th><th scope=col>class</th></tr>\n",
       "\t<tr><th></th><th scope=col>&lt;dbl&gt;</th><th scope=col>&lt;dbl&gt;</th><th scope=col>&lt;dbl&gt;</th><th scope=col>&lt;dbl&gt;</th><th scope=col>&lt;int&gt;</th></tr>\n",
       "</thead>\n",
       "<tbody>\n",
       "\t<tr><th scope=row>1</th><td>3.62160</td><td> 8.6661</td><td>-2.8073</td><td>-0.44699</td><td>0</td></tr>\n",
       "\t<tr><th scope=row>2</th><td>4.54590</td><td> 8.1674</td><td>-2.4586</td><td>-1.46210</td><td>0</td></tr>\n",
       "\t<tr><th scope=row>3</th><td>3.86600</td><td>-2.6383</td><td> 1.9242</td><td> 0.10645</td><td>0</td></tr>\n",
       "\t<tr><th scope=row>4</th><td>3.45660</td><td> 9.5228</td><td>-4.0112</td><td>-3.59440</td><td>0</td></tr>\n",
       "\t<tr><th scope=row>5</th><td>0.32924</td><td>-4.4552</td><td> 4.5718</td><td>-0.98880</td><td>0</td></tr>\n",
       "\t<tr><th scope=row>6</th><td>4.36840</td><td> 9.6718</td><td>-3.9606</td><td>-3.16250</td><td>0</td></tr>\n",
       "</tbody>\n",
       "</table>\n"
      ],
      "text/latex": [
       "A data.frame: 6 × 5\n",
       "\\begin{tabular}{r|lllll}\n",
       "  & variance & skewness & curtosis & entropy & class\\\\\n",
       "  & <dbl> & <dbl> & <dbl> & <dbl> & <int>\\\\\n",
       "\\hline\n",
       "\t1 & 3.62160 &  8.6661 & -2.8073 & -0.44699 & 0\\\\\n",
       "\t2 & 4.54590 &  8.1674 & -2.4586 & -1.46210 & 0\\\\\n",
       "\t3 & 3.86600 & -2.6383 &  1.9242 &  0.10645 & 0\\\\\n",
       "\t4 & 3.45660 &  9.5228 & -4.0112 & -3.59440 & 0\\\\\n",
       "\t5 & 0.32924 & -4.4552 &  4.5718 & -0.98880 & 0\\\\\n",
       "\t6 & 4.36840 &  9.6718 & -3.9606 & -3.16250 & 0\\\\\n",
       "\\end{tabular}\n"
      ],
      "text/markdown": [
       "\n",
       "A data.frame: 6 × 5\n",
       "\n",
       "| <!--/--> | variance &lt;dbl&gt; | skewness &lt;dbl&gt; | curtosis &lt;dbl&gt; | entropy &lt;dbl&gt; | class &lt;int&gt; |\n",
       "|---|---|---|---|---|---|\n",
       "| 1 | 3.62160 |  8.6661 | -2.8073 | -0.44699 | 0 |\n",
       "| 2 | 4.54590 |  8.1674 | -2.4586 | -1.46210 | 0 |\n",
       "| 3 | 3.86600 | -2.6383 |  1.9242 |  0.10645 | 0 |\n",
       "| 4 | 3.45660 |  9.5228 | -4.0112 | -3.59440 | 0 |\n",
       "| 5 | 0.32924 | -4.4552 |  4.5718 | -0.98880 | 0 |\n",
       "| 6 | 4.36840 |  9.6718 | -3.9606 | -3.16250 | 0 |\n",
       "\n"
      ],
      "text/plain": [
       "  variance skewness curtosis entropy  class\n",
       "1 3.62160   8.6661  -2.8073  -0.44699 0    \n",
       "2 4.54590   8.1674  -2.4586  -1.46210 0    \n",
       "3 3.86600  -2.6383   1.9242   0.10645 0    \n",
       "4 3.45660   9.5228  -4.0112  -3.59440 0    \n",
       "5 0.32924  -4.4552   4.5718  -0.98880 0    \n",
       "6 4.36840   9.6718  -3.9606  -3.16250 0    "
      ]
     },
     "metadata": {},
     "output_type": "display_data"
    }
   ],
   "source": [
    "head(df)"
   ]
  },
  {
   "cell_type": "code",
   "execution_count": 7,
   "metadata": {},
   "outputs": [
    {
     "data": {
      "text/plain": [
       "   \n",
       "      0   1\n",
       "  0 762   0\n",
       "  1   0 610"
      ]
     },
     "metadata": {},
     "output_type": "display_data"
    }
   ],
   "source": [
    "# analyzing the class  variable\n",
    "table(df$class,df$class)"
   ]
  },
  {
   "cell_type": "code",
   "execution_count": 8,
   "metadata": {},
   "outputs": [
    {
     "data": {
      "text/html": [
       "1372"
      ],
      "text/latex": [
       "1372"
      ],
      "text/markdown": [
       "1372"
      ],
      "text/plain": [
       "[1] 1372"
      ]
     },
     "metadata": {},
     "output_type": "display_data"
    }
   ],
   "source": [
    "nrow(df)"
   ]
  },
  {
   "cell_type": "code",
   "execution_count": 9,
   "metadata": {},
   "outputs": [],
   "source": [
    "#set seed to ensure reproducible results\n",
    "set.seed(250)\n",
    "#spliting into training and test data sets in 3:1 ratio\n",
    "df[,'train'] <- ifelse(runif(nrow(df))<0.75,1,0)\n",
    "#separate training and test sets\n",
    "train_df <- df[df$train==1,]\n",
    "test_df <- df[df$train==0,]\n",
    "#get column index of train flag\n",
    "df_trainColNum <- grep('train',names(train_df))"
   ]
  },
  {
   "cell_type": "code",
   "execution_count": 10,
   "metadata": {},
   "outputs": [
    {
     "name": "stdout",
     "output_type": "stream",
     "text": [
      "'data.frame':\t1031 obs. of  6 variables:\n",
      " $ variance: num  3.62 3.87 2.09 3.2 1.22 ...\n",
      " $ skewness: num  8.67 -2.64 -6.81 5.76 8.78 ...\n",
      " $ curtosis: num  -2.807 1.924 8.464 -0.753 -2.213 ...\n",
      " $ entropy : num  -0.447 0.106 -0.602 -0.613 -0.806 ...\n",
      " $ class   : int  0 0 0 0 0 0 0 0 0 0 ...\n",
      " $ train   : num  1 1 1 1 1 1 1 1 1 1 ...\n"
     ]
    }
   ],
   "source": [
    "str(train_df)"
   ]
  },
  {
   "cell_type": "code",
   "execution_count": 11,
   "metadata": {},
   "outputs": [
    {
     "name": "stdout",
     "output_type": "stream",
     "text": [
      "'data.frame':\t341 obs. of  6 variables:\n",
      " $ variance: num  4.546 3.457 0.329 4.368 3.591 ...\n",
      " $ skewness: num  8.17 9.52 -4.46 9.67 3.01 ...\n",
      " $ curtosis: num  -2.459 -4.011 4.572 -3.961 0.729 ...\n",
      " $ entropy : num  -1.462 -3.594 -0.989 -3.163 0.564 ...\n",
      " $ class   : int  0 0 0 0 0 0 0 0 0 0 ...\n",
      " $ train   : num  0 0 0 0 0 0 0 0 0 0 ...\n"
     ]
    }
   ],
   "source": [
    "str(test_df)"
   ]
  },
  {
   "cell_type": "code",
   "execution_count": 12,
   "metadata": {},
   "outputs": [],
   "source": [
    "number.perfect.splits <- apply(X=df[-1], MARGIN = 2, FUN = function(col){\n",
    "t <- table(df$class,col)\n",
    "sum(t == 0)\n",
    "})"
   ]
  },
  {
   "cell_type": "code",
   "execution_count": 13,
   "metadata": {},
   "outputs": [],
   "source": [
    "# Descending order of perfect splits\n",
    "order <- order(number.perfect.splits,decreasing = TRUE)\n",
    "number.perfect.splits <- number.perfect.splits[order]"
   ]
  },
  {
   "cell_type": "code",
   "execution_count": 14,
   "metadata": {},
   "outputs": [
    {
     "data": {
      "image/png": "[encoded data removed]",
      "text/plain": [
       "Plot with title \"Number of perfect splits vs feature\""
      ]
     },
     "metadata": {
      "image/png": {
       "height": 420,
       "width": 420
      }
     },
     "output_type": "display_data"
    }
   ],
   "source": [
    "# Plot graph\n",
    "#par(mar=c(10,2,2,2))\n",
    "barplot(number.perfect.splits,main=\"Number of perfect splits vs feature\",\n",
    "xlab=\"\",ylab=\"Feature\",las=2,border=\"red\",col=\"blue\",density=10)"
   ]
  },
  {
   "cell_type": "code",
   "execution_count": 15,
   "metadata": {},
   "outputs": [],
   "source": [
    "#data splicing\n",
    "set.seed(12345)\n",
    "train <- sample(1:nrow(df),size = ceiling(0.80*nrow(df)),replace = FALSE)\n",
    "# training set\n",
    "df_train <- df[train,]\n",
    "# test set\n",
    "df_test <- df[-train,]"
   ]
  },
  {
   "cell_type": "code",
   "execution_count": 16,
   "metadata": {},
   "outputs": [],
   "source": [
    "# building the classification tree with rpart\n",
    "tree <- rpart(class~.,data=df_train, method = \"class\")"
   ]
  },
  {
   "cell_type": "code",
   "execution_count": 17,
   "metadata": {},
   "outputs": [
    {
     "data": {
      "image/png": "[encoded data removed]",
      "text/plain": [
       "plot without title"
      ]
     },
     "metadata": {
      "image/png": {
       "height": 420,
       "width": 420
      }
     },
     "output_type": "display_data"
    }
   ],
   "source": [
    "#Obtaining the train and test data set\n",
    "#remove train flag column from train and test sets\n",
    "train_df <- train_df[,-df_trainColNum]\n",
    "test_df <- test_df[,-df_trainColNum]\n",
    "#Get column index of predicted variable in dataset\n",
    "typeColNum_df <- grep('class',names(df))\n",
    "#Constructing the required Decision tree model\n",
    "rpart_model_df <- rpart(class~.,data = train_df, method= 'class')\n",
    "# Plotting the tree\n",
    "plot(rpart_model_df)\n",
    "text(rpart_model_df)"
   ]
  },
  {
   "cell_type": "code",
   "execution_count": 18,
   "metadata": {},
   "outputs": [
    {
     "data": {
      "image/png": "[encoded data removed]",
      "text/plain": [
       "plot without title"
      ]
     },
     "metadata": {
      "image/png": {
       "height": 420,
       "width": 420
      }
     },
     "output_type": "display_data"
    }
   ],
   "source": [
    "# Visualize the decision tree with rpart.plot\n",
    "rpart.plot(tree, nn=TRUE, cex=1, box.palette = \"auto\")"
   ]
  },
  {
   "cell_type": "code",
   "execution_count": 19,
   "metadata": {},
   "outputs": [
    {
     "data": {
      "text/plain": [
       "v\n",
       "  0   1 \n",
       "762 610 "
      ]
     },
     "metadata": {},
     "output_type": "display_data"
    }
   ],
   "source": [
    "#There are three level in the class variable, 1 as setosa and 2 as versicolor\n",
    "#3 as Virginica\n",
    "v<-df$class\n",
    "table(v)"
   ]
  },
  {
   "cell_type": "code",
   "execution_count": 20,
   "metadata": {},
   "outputs": [
    {
     "ename": "ERROR",
     "evalue": "Error in parse(text = x, srcfile = src): <text>:1:3: unexpected string constant\n12: str(test_df)\n13: \"\n      ^\n",
     "output_type": "error",
     "traceback": [
      "Error in parse(text = x, srcfile = src): <text>:1:3: unexpected string constant\n12: str(test_df)\n13: \"\n      ^\nTraceback:\n"
     ]
    }
   ],
   "source": [
    "\"\"\"\n",
    "#set seed to ensure reproducible results\n",
    "set.seed(250)\n",
    "#spliting into training and test data sets in 3:1 ratio\n",
    "df[,'train'] <- ifelse(runif(nrow(df))<0.75,1,0)\n",
    "#separate training and test sets\n",
    "train_df <- df[df$train==1,]\n",
    "test_df <- df[df$train==0,]\n",
    "#get column index of train flag\n",
    "df_trainColNum <- grep('train',names(train_df))\n",
    "\n",
    "str(test_df)\n",
    "\"\"\""
   ]
  },
  {
   "cell_type": "code",
   "execution_count": 21,
   "metadata": {},
   "outputs": [
    {
     "name": "stdout",
     "output_type": "stream",
     "text": [
      "Call:\n",
      "rpart(formula = class ~ ., data = train_df, method = \"class\")\n",
      "  n= 1031 \n",
      "\n",
      "          CP nsplit  rel error     xerror       xstd\n",
      "1 0.66375546      0 1.00000000 1.00000000 0.03483495\n",
      "2 0.10917031      1 0.33624454 0.36026201 0.02570432\n",
      "3 0.05458515      2 0.22707424 0.24672489 0.02190109\n",
      "4 0.03711790      3 0.17248908 0.19432314 0.01968909\n",
      "5 0.01855895      4 0.13537118 0.16157205 0.01809577\n",
      "6 0.01746725      8 0.06113537 0.12445415 0.01602220\n",
      "7 0.01091703      9 0.04366812 0.07641921 0.01269606\n",
      "8 0.01000000     11 0.02183406 0.06986900 0.01215802\n",
      "\n",
      "Variable importance\n",
      "variance skewness curtosis  entropy \n",
      "      47       25       17       11 \n",
      "\n",
      "Node number 1: 1031 observations,    complexity param=0.6637555\n",
      "  predicted class=0  expected loss=0.4442289  P(node) =1\n",
      "    class counts:   573   458\n",
      "   probabilities: 0.556 0.444 \n",
      "  left son=2 (539 obs) right son=3 (492 obs)\n",
      "  Primary splits:\n",
      "      variance < 0.27164   to the right, improve=250.363100, (0 missing)\n",
      "      skewness < 4.99835   to the right, improve=128.236900, (0 missing)\n",
      "      curtosis < 8.6825    to the left,  improve= 49.032630, (0 missing)\n",
      "      entropy  < -4.06055  to the left,  improve=  2.582913, (0 missing)\n",
      "  Surrogate splits:\n",
      "      skewness < -5.18665  to the right, agree=0.635, adj=0.236, (0 split)\n",
      "      curtosis < 4.7569    to the left,  agree=0.627, adj=0.217, (0 split)\n",
      "      entropy  < -1.8907   to the right, agree=0.579, adj=0.118, (0 split)\n",
      "\n",
      "Node number 2: 539 observations,    complexity param=0.0371179\n",
      "  predicted class=0  expected loss=0.1113173  P(node) =0.5227934\n",
      "    class counts:   479    60\n",
      "   probabilities: 0.889 0.111 \n",
      "  left son=4 (506 obs) right son=5 (33 obs)\n",
      "  Primary splits:\n",
      "      curtosis < -4.3732   to the right, improve=29.362610, (0 missing)\n",
      "      variance < 1.6824    to the right, improve=21.967490, (0 missing)\n",
      "      skewness < 5.2353    to the right, improve= 9.645124, (0 missing)\n",
      "      entropy  < -1.91075  to the right, improve= 4.794673, (0 missing)\n",
      "  Surrogate splits:\n",
      "      entropy < -5.16485  to the right, agree=0.946, adj=0.121, (0 split)\n",
      "\n",
      "Node number 3: 492 observations,    complexity param=0.1091703\n",
      "  predicted class=1  expected loss=0.1910569  P(node) =0.4772066\n",
      "    class counts:    94   398\n",
      "   probabilities: 0.191 0.809 \n",
      "  left son=6 (100 obs) right son=7 (392 obs)\n",
      "  Primary splits:\n",
      "      skewness < 5.86535   to the right, improve=78.423140, (0 missing)\n",
      "      entropy  < -3.26915  to the left,  improve=24.563350, (0 missing)\n",
      "      variance < -2.50185  to the right, improve=12.396000, (0 missing)\n",
      "      curtosis < 8.83885   to the left,  improve= 6.257912, (0 missing)\n",
      "  Surrogate splits:\n",
      "      entropy  < -4.4543   to the left,  agree=0.898, adj=0.50, (0 split)\n",
      "      variance < -5.14385  to the left,  agree=0.837, adj=0.20, (0 split)\n",
      "      curtosis < -3.68255  to the left,  agree=0.801, adj=0.02, (0 split)\n",
      "\n",
      "Node number 4: 506 observations,    complexity param=0.01855895\n",
      "  predicted class=0  expected loss=0.06916996  P(node) =0.4907856\n",
      "    class counts:   471    35\n",
      "   probabilities: 0.931 0.069 \n",
      "  left son=8 (366 obs) right son=9 (140 obs)\n",
      "  Primary splits:\n",
      "      variance < 1.5922    to the right, improve=10.737100, (0 missing)\n",
      "      curtosis < -1.44025  to the right, improve= 4.585018, (0 missing)\n",
      "      skewness < 3.7009    to the right, improve= 4.299894, (0 missing)\n",
      "      entropy  < -0.14635  to the left,  improve= 1.255510, (0 missing)\n",
      "\n",
      "Node number 5: 33 observations,    complexity param=0.01746725\n",
      "  predicted class=1  expected loss=0.2424242  P(node) =0.03200776\n",
      "    class counts:     8    25\n",
      "   probabilities: 0.242 0.758 \n",
      "  left son=10 (8 obs) right son=11 (25 obs)\n",
      "  Primary splits:\n",
      "      variance < 3.30405   to the right, improve=12.121210, (0 missing)\n",
      "      skewness < 7.1918    to the right, improve=12.121210, (0 missing)\n",
      "      curtosis < -4.7215   to the right, improve= 1.365657, (0 missing)\n",
      "      entropy  < -3.06355  to the left,  improve= 1.044289, (0 missing)\n",
      "  Surrogate splits:\n",
      "      skewness < 7.1918    to the right, agree=1, adj=1, (0 split)\n",
      "\n",
      "Node number 6: 100 observations,    complexity param=0.05458515\n",
      "  predicted class=0  expected loss=0.25  P(node) =0.09699321\n",
      "    class counts:    75    25\n",
      "   probabilities: 0.750 0.250 \n",
      "  left son=12 (75 obs) right son=13 (25 obs)\n",
      "  Primary splits:\n",
      "      variance < -4.3263   to the right, improve=37.500000, (0 missing)\n",
      "      skewness < 9.3076    to the right, improve= 9.821429, (0 missing)\n",
      "      curtosis < 0.857405  to the right, improve= 6.750000, (0 missing)\n",
      "      entropy  < -3.6293   to the right, improve= 4.005495, (0 missing)\n",
      "  Surrogate splits:\n",
      "      skewness < 7.5653    to the right, agree=0.76, adj=0.04, (0 split)\n",
      "\n",
      "Node number 7: 392 observations,    complexity param=0.01855895\n",
      "  predicted class=1  expected loss=0.04846939  P(node) =0.3802134\n",
      "    class counts:    19   373\n",
      "   probabilities: 0.048 0.952 \n",
      "  left son=14 (107 obs) right son=15 (285 obs)\n",
      "  Primary splits:\n",
      "      curtosis < 6.773     to the right, improve=4.2212560, (0 missing)\n",
      "      variance < -1.79285  to the right, improve=2.0398840, (0 missing)\n",
      "      entropy  < 0.346965  to the right, improve=1.7766160, (0 missing)\n",
      "      skewness < -1.82715  to the right, improve=0.8382528, (0 missing)\n",
      "  Surrogate splits:\n",
      "      skewness < -7.1349   to the left,  agree=0.893, adj=0.607, (0 split)\n",
      "      variance < -4.16935  to the left,  agree=0.753, adj=0.093, (0 split)\n",
      "      entropy  < 1.78165   to the right, agree=0.730, adj=0.009, (0 split)\n",
      "\n",
      "Node number 8: 366 observations\n",
      "  predicted class=0  expected loss=0.005464481  P(node) =0.3549952\n",
      "    class counts:   364     2\n",
      "   probabilities: 0.995 0.005 \n",
      "\n",
      "Node number 9: 140 observations,    complexity param=0.01855895\n",
      "  predicted class=0  expected loss=0.2357143  P(node) =0.1357905\n",
      "    class counts:   107    33\n",
      "   probabilities: 0.764 0.236 \n",
      "  left son=18 (117 obs) right son=19 (23 obs)\n",
      "  Primary splits:\n",
      "      curtosis < -2.2662   to the right, improve=22.114350, (0 missing)\n",
      "      skewness < 3.8302    to the right, improve=12.728570, (0 missing)\n",
      "      entropy  < -0.157985 to the left,  improve=11.109360, (0 missing)\n",
      "      variance < 0.85374   to the right, improve= 1.390226, (0 missing)\n",
      "  Surrogate splits:\n",
      "      variance < 1.58045   to the left,  agree=0.85, adj=0.087, (0 split)\n",
      "\n",
      "Node number 10: 8 observations\n",
      "  predicted class=0  expected loss=0  P(node) =0.007759457\n",
      "    class counts:     8     0\n",
      "   probabilities: 1.000 0.000 \n",
      "\n",
      "Node number 11: 25 observations\n",
      "  predicted class=1  expected loss=0  P(node) =0.0242483\n",
      "    class counts:     0    25\n",
      "   probabilities: 0.000 1.000 \n",
      "\n",
      "Node number 12: 75 observations\n",
      "  predicted class=0  expected loss=0  P(node) =0.07274491\n",
      "    class counts:    75     0\n",
      "   probabilities: 1.000 0.000 \n",
      "\n",
      "Node number 13: 25 observations\n",
      "  predicted class=1  expected loss=0  P(node) =0.0242483\n",
      "    class counts:     0    25\n",
      "   probabilities: 0.000 1.000 \n",
      "\n",
      "Node number 14: 107 observations,    complexity param=0.01855895\n",
      "  predicted class=1  expected loss=0.1682243  P(node) =0.1037827\n",
      "    class counts:    18    89\n",
      "   probabilities: 0.168 0.832 \n",
      "  left son=28 (17 obs) right son=29 (90 obs)\n",
      "  Primary splits:\n",
      "      skewness < -3.38535  to the right, improve=27.966150, (0 missing)\n",
      "      variance < -1.50765  to the right, improve=22.266730, (0 missing)\n",
      "      curtosis < 8.47645   to the left,  improve=14.612100, (0 missing)\n",
      "      entropy  < -0.028031 to the right, improve= 6.697446, (0 missing)\n",
      "  Surrogate splits:\n",
      "      variance < -1.50765  to the right, agree=0.953, adj=0.706, (0 split)\n",
      "      curtosis < 7.8252    to the left,  agree=0.897, adj=0.353, (0 split)\n",
      "\n",
      "Node number 15: 285 observations\n",
      "  predicted class=1  expected loss=0.003508772  P(node) =0.2764306\n",
      "    class counts:     1   284\n",
      "   probabilities: 0.004 0.996 \n",
      "\n",
      "Node number 18: 117 observations,    complexity param=0.01091703\n",
      "  predicted class=0  expected loss=0.1111111  P(node) =0.1134821\n",
      "    class counts:   104    13\n",
      "   probabilities: 0.889 0.111 \n",
      "  left son=36 (90 obs) right son=37 (27 obs)\n",
      "  Primary splits:\n",
      "      entropy  < 0.081882  to the left,  improve=7.800000, (0 missing)\n",
      "      skewness < 1.83755   to the right, improve=4.458937, (0 missing)\n",
      "      variance < 0.760295  to the right, improve=3.871111, (0 missing)\n",
      "      curtosis < 0.209635  to the right, improve=2.720700, (0 missing)\n",
      "\n",
      "Node number 19: 23 observations\n",
      "  predicted class=1  expected loss=0.1304348  P(node) =0.02230844\n",
      "    class counts:     3    20\n",
      "   probabilities: 0.130 0.870 \n",
      "\n",
      "Node number 28: 17 observations\n",
      "  predicted class=0  expected loss=0  P(node) =0.01648885\n",
      "    class counts:    17     0\n",
      "   probabilities: 1.000 0.000 \n",
      "\n",
      "Node number 29: 90 observations\n",
      "  predicted class=1  expected loss=0.01111111  P(node) =0.08729389\n",
      "    class counts:     1    89\n",
      "   probabilities: 0.011 0.989 \n",
      "\n",
      "Node number 36: 90 observations\n",
      "  predicted class=0  expected loss=0.01111111  P(node) =0.08729389\n",
      "    class counts:    89     1\n",
      "   probabilities: 0.989 0.011 \n",
      "\n",
      "Node number 37: 27 observations,    complexity param=0.01091703\n",
      "  predicted class=0  expected loss=0.4444444  P(node) =0.02618817\n",
      "    class counts:    15    12\n",
      "   probabilities: 0.556 0.444 \n",
      "  left son=74 (13 obs) right son=75 (14 obs)\n",
      "  Primary splits:\n",
      "      curtosis < 1.85305   to the right, improve=9.9047620, (0 missing)\n",
      "      skewness < 1.662675  to the right, improve=8.5333330, (0 missing)\n",
      "      variance < 0.781255  to the right, improve=7.3333330, (0 missing)\n",
      "      entropy  < 0.46528   to the right, improve=0.8333333, (0 missing)\n",
      "  Surrogate splits:\n",
      "      skewness < 1.662675  to the right, agree=0.815, adj=0.615, (0 split)\n",
      "      variance < 0.67226   to the right, agree=0.778, adj=0.538, (0 split)\n",
      "      entropy  < 0.81248   to the left,  agree=0.593, adj=0.154, (0 split)\n",
      "\n",
      "Node number 74: 13 observations\n",
      "  predicted class=0  expected loss=0  P(node) =0.01260912\n",
      "    class counts:    13     0\n",
      "   probabilities: 1.000 0.000 \n",
      "\n",
      "Node number 75: 14 observations\n",
      "  predicted class=1  expected loss=0.1428571  P(node) =0.01357905\n",
      "    class counts:     2    12\n",
      "   probabilities: 0.143 0.857 \n",
      "\n"
     ]
    }
   ],
   "source": [
    "summary(rpart_model_df)"
   ]
  },
  {
   "cell_type": "code",
   "execution_count": 23,
   "metadata": {},
   "outputs": [
    {
     "data": {
      "text/html": [
       "0.976539589442815"
      ],
      "text/latex": [
       "0.976539589442815"
      ],
      "text/markdown": [
       "0.976539589442815"
      ],
      "text/plain": [
       "[1] 0.9765396"
      ]
     },
     "metadata": {},
     "output_type": "display_data"
    }
   ],
   "source": [
    "#Checking how good the model is\n",
    "rpart_predict_df<- predict(rpart_model_df,test_df[,-typeColNum_df],type='class')\n",
    "mn_df <- mean(rpart_predict_df==test_df$class)\n",
    "mn_df"
   ]
  },
  {
   "cell_type": "code",
   "execution_count": 27,
   "metadata": {},
   "outputs": [
    {
     "data": {
      "text/plain": [
       "    true\n",
       "pred   0   1\n",
       "   0 184   3\n",
       "   1   5 149"
      ]
     },
     "metadata": {},
     "output_type": "display_data"
    }
   ],
   "source": [
    "# Constructing the confusion matrix to find out the efficiency of the model\n",
    "table(pred=rpart_predict_df,true=test_df$class)"
   ]
  },
  {
   "cell_type": "code",
   "execution_count": 28,
   "metadata": {},
   "outputs": [],
   "source": [
    "# Constructing the confusion matrix to find out the efficiency of the model\n",
    "t <- table(test_df$class,rpart_predict_df)"
   ]
  },
  {
   "cell_type": "code",
   "execution_count": 29,
   "metadata": {},
   "outputs": [
    {
     "data": {
      "text/plain": [
       "Confusion Matrix and Statistics\n",
       "\n",
       "   rpart_predict_df\n",
       "      0   1\n",
       "  0 184   5\n",
       "  1   3 149\n",
       "                                          \n",
       "               Accuracy : 0.9765          \n",
       "                 95% CI : (0.9543, 0.9898)\n",
       "    No Information Rate : 0.5484          \n",
       "    P-Value [Acc > NIR] : <2e-16          \n",
       "                                          \n",
       "                  Kappa : 0.9526          \n",
       "                                          \n",
       " Mcnemar's Test P-Value : 0.7237          \n",
       "                                          \n",
       "            Sensitivity : 0.9840          \n",
       "            Specificity : 0.9675          \n",
       "         Pos Pred Value : 0.9735          \n",
       "         Neg Pred Value : 0.9803          \n",
       "             Prevalence : 0.5484          \n",
       "         Detection Rate : 0.5396          \n",
       "   Detection Prevalence : 0.5543          \n",
       "      Balanced Accuracy : 0.9757          \n",
       "                                          \n",
       "       'Positive' Class : 0               \n",
       "                                          "
      ]
     },
     "metadata": {},
     "output_type": "display_data"
    }
   ],
   "source": [
    "#install.packages('e1071', dependencies=TRUE)\n",
    "confusionMatrix(t)"
   ]
  },
  {
   "cell_type": "code",
   "execution_count": null,
   "metadata": {},
   "outputs": [],
   "source": []
  }
 ],
 "metadata": {
  "kernelspec": {
   "display_name": "R",
   "language": "R",
   "name": "ir"
  },
  "language_info": {
   "codemirror_mode": "r",
   "file_extension": ".r",
   "mimetype": "text/x-r-source",
   "name": "R",
   "pygments_lexer": "r",
   "version": "4.0.3"
  }
 },
 "nbformat": 4,
 "nbformat_minor": 4
}

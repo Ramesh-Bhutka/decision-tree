{
 "cells": [
  {
   "cell_type": "code",
   "execution_count": 1,
   "metadata": {},
   "outputs": [
    {
     "name": "stderr",
     "output_type": "stream",
     "text": [
      "Loading required package: tibble\n",
      "\n",
      "Loading required package: bitops\n",
      "\n",
      "Rattle: A free graphical interface for data science with R.\n",
      "Version 5.4.0 Copyright (c) 2006-2020 Togaware Pty Ltd.\n",
      "Type 'rattle()' to shake, rattle, and roll your data.\n",
      "\n"
     ]
    }
   ],
   "source": [
    "#Loading libraries\n",
    "library(rpart,quietly = TRUE)\n",
    "library(rpart.plot,quietly = TRUE)\n",
    "library(caret,quietly = TRUE)\n",
    "library(rattle)"
   ]
  },
  {
   "cell_type": "code",
   "execution_count": 2,
   "metadata": {},
   "outputs": [],
   "source": [
    "#find.package('caret')\n",
    "#install.packages('rpart')\n",
    "#install.packages(\"rpart.plot\")\n",
    "#install.packages('rattle')"
   ]
  },
  {
   "cell_type": "code",
   "execution_count": 4,
   "metadata": {},
   "outputs": [],
   "source": [
    "#Reading the data set as a dataframe\n",
    "df <- read.csv (\"C:/Users/User/ML codes/heart.csv\")"
   ]
  },
  {
   "cell_type": "code",
   "execution_count": 5,
   "metadata": {},
   "outputs": [
    {
     "name": "stdout",
     "output_type": "stream",
     "text": [
      "'data.frame':\t200 obs. of  16 variables:\n",
      " $ AGE_50   : int  42 53 53 48 53 58 48 60 59 40 ...\n",
      " $ MD_50    : int  1 1 2 4 3 2 4 1 4 3 ...\n",
      " $ SBP_50   : int  110 130 120 120 118 122 130 124 160 120 ...\n",
      " $ DBP_50   : int  65 72 90 80 74 72 90 80 100 80 ...\n",
      " $ HT_50    : int  64 69 70 72 66 69 67 74 72 69 ...\n",
      " $ WT_50    : int  147 167 222 229 134 135 165 235 206 148 ...\n",
      " $ CHOL_50  : int  291 278 342 239 243 210 219 203 269 185 ...\n",
      " $ SES      : int  2 1 4 4 3 3 3 3 5 3 ...\n",
      " $ CL_STATUS: int  8 6 8 8 8 8 8 8 8 8 ...\n",
      " $ MD_62    : int  4 2 1 2 5 4 4 1 3 3 ...\n",
      " $ SBP_62   : int  120 122 132 118 118 130 138 160 150 110 ...\n",
      " $ DBP_62   : int  78 68 90 68 56 72 86 90 100 64 ...\n",
      " $ CHOL_62  : int  271 250 304 209 261 245 275 271 291 241 ...\n",
      " $ WT_62    : int  146 165 223 227 138 136 166 226 198 152 ...\n",
      " $ IHD_DX   : int  2 9 2 3 2 2 2 3 3 2 ...\n",
      " $ DEATH    : int  1 1 1 1 1 1 1 1 1 1 ...\n"
     ]
    }
   ],
   "source": [
    "str(df)"
   ]
  },
  {
   "cell_type": "code",
   "execution_count": 6,
   "metadata": {},
   "outputs": [
    {
     "data": {
      "text/html": [
       "0"
      ],
      "text/latex": [
       "0"
      ],
      "text/markdown": [
       "0"
      ],
      "text/plain": [
       "[1] 0"
      ]
     },
     "metadata": {},
     "output_type": "display_data"
    }
   ],
   "source": [
    "# number of rows with missing values\n",
    "nrow(df) - sum(complete.cases(df))"
   ]
  },
  {
   "cell_type": "code",
   "execution_count": 7,
   "metadata": {},
   "outputs": [
    {
     "data": {
      "text/html": [
       "<table>\n",
       "<caption>A data.frame: 6 × 16</caption>\n",
       "<thead>\n",
       "\t<tr><th></th><th scope=col>AGE_50</th><th scope=col>MD_50</th><th scope=col>SBP_50</th><th scope=col>DBP_50</th><th scope=col>HT_50</th><th scope=col>WT_50</th><th scope=col>CHOL_50</th><th scope=col>SES</th><th scope=col>CL_STATUS</th><th scope=col>MD_62</th><th scope=col>SBP_62</th><th scope=col>DBP_62</th><th scope=col>CHOL_62</th><th scope=col>WT_62</th><th scope=col>IHD_DX</th><th scope=col>DEATH</th></tr>\n",
       "\t<tr><th></th><th scope=col>&lt;int&gt;</th><th scope=col>&lt;int&gt;</th><th scope=col>&lt;int&gt;</th><th scope=col>&lt;int&gt;</th><th scope=col>&lt;int&gt;</th><th scope=col>&lt;int&gt;</th><th scope=col>&lt;int&gt;</th><th scope=col>&lt;int&gt;</th><th scope=col>&lt;int&gt;</th><th scope=col>&lt;int&gt;</th><th scope=col>&lt;int&gt;</th><th scope=col>&lt;int&gt;</th><th scope=col>&lt;int&gt;</th><th scope=col>&lt;int&gt;</th><th scope=col>&lt;int&gt;</th><th scope=col>&lt;int&gt;</th></tr>\n",
       "</thead>\n",
       "<tbody>\n",
       "\t<tr><th scope=row>1</th><td>42</td><td>1</td><td>110</td><td>65</td><td>64</td><td>147</td><td>291</td><td>2</td><td>8</td><td>4</td><td>120</td><td>78</td><td>271</td><td>146</td><td>2</td><td>1</td></tr>\n",
       "\t<tr><th scope=row>2</th><td>53</td><td>1</td><td>130</td><td>72</td><td>69</td><td>167</td><td>278</td><td>1</td><td>6</td><td>2</td><td>122</td><td>68</td><td>250</td><td>165</td><td>9</td><td>1</td></tr>\n",
       "\t<tr><th scope=row>3</th><td>53</td><td>2</td><td>120</td><td>90</td><td>70</td><td>222</td><td>342</td><td>4</td><td>8</td><td>1</td><td>132</td><td>90</td><td>304</td><td>223</td><td>2</td><td>1</td></tr>\n",
       "\t<tr><th scope=row>4</th><td>48</td><td>4</td><td>120</td><td>80</td><td>72</td><td>229</td><td>239</td><td>4</td><td>8</td><td>2</td><td>118</td><td>68</td><td>209</td><td>227</td><td>3</td><td>1</td></tr>\n",
       "\t<tr><th scope=row>5</th><td>53</td><td>3</td><td>118</td><td>74</td><td>66</td><td>134</td><td>243</td><td>3</td><td>8</td><td>5</td><td>118</td><td>56</td><td>261</td><td>138</td><td>2</td><td>1</td></tr>\n",
       "\t<tr><th scope=row>6</th><td>58</td><td>2</td><td>122</td><td>72</td><td>69</td><td>135</td><td>210</td><td>3</td><td>8</td><td>4</td><td>130</td><td>72</td><td>245</td><td>136</td><td>2</td><td>1</td></tr>\n",
       "</tbody>\n",
       "</table>\n"
      ],
      "text/latex": [
       "A data.frame: 6 × 16\n",
       "\\begin{tabular}{r|llllllllllllllll}\n",
       "  & AGE\\_50 & MD\\_50 & SBP\\_50 & DBP\\_50 & HT\\_50 & WT\\_50 & CHOL\\_50 & SES & CL\\_STATUS & MD\\_62 & SBP\\_62 & DBP\\_62 & CHOL\\_62 & WT\\_62 & IHD\\_DX & DEATH\\\\\n",
       "  & <int> & <int> & <int> & <int> & <int> & <int> & <int> & <int> & <int> & <int> & <int> & <int> & <int> & <int> & <int> & <int>\\\\\n",
       "\\hline\n",
       "\t1 & 42 & 1 & 110 & 65 & 64 & 147 & 291 & 2 & 8 & 4 & 120 & 78 & 271 & 146 & 2 & 1\\\\\n",
       "\t2 & 53 & 1 & 130 & 72 & 69 & 167 & 278 & 1 & 6 & 2 & 122 & 68 & 250 & 165 & 9 & 1\\\\\n",
       "\t3 & 53 & 2 & 120 & 90 & 70 & 222 & 342 & 4 & 8 & 1 & 132 & 90 & 304 & 223 & 2 & 1\\\\\n",
       "\t4 & 48 & 4 & 120 & 80 & 72 & 229 & 239 & 4 & 8 & 2 & 118 & 68 & 209 & 227 & 3 & 1\\\\\n",
       "\t5 & 53 & 3 & 118 & 74 & 66 & 134 & 243 & 3 & 8 & 5 & 118 & 56 & 261 & 138 & 2 & 1\\\\\n",
       "\t6 & 58 & 2 & 122 & 72 & 69 & 135 & 210 & 3 & 8 & 4 & 130 & 72 & 245 & 136 & 2 & 1\\\\\n",
       "\\end{tabular}\n"
      ],
      "text/markdown": [
       "\n",
       "A data.frame: 6 × 16\n",
       "\n",
       "| <!--/--> | AGE_50 &lt;int&gt; | MD_50 &lt;int&gt; | SBP_50 &lt;int&gt; | DBP_50 &lt;int&gt; | HT_50 &lt;int&gt; | WT_50 &lt;int&gt; | CHOL_50 &lt;int&gt; | SES &lt;int&gt; | CL_STATUS &lt;int&gt; | MD_62 &lt;int&gt; | SBP_62 &lt;int&gt; | DBP_62 &lt;int&gt; | CHOL_62 &lt;int&gt; | WT_62 &lt;int&gt; | IHD_DX &lt;int&gt; | DEATH &lt;int&gt; |\n",
       "|---|---|---|---|---|---|---|---|---|---|---|---|---|---|---|---|---|\n",
       "| 1 | 42 | 1 | 110 | 65 | 64 | 147 | 291 | 2 | 8 | 4 | 120 | 78 | 271 | 146 | 2 | 1 |\n",
       "| 2 | 53 | 1 | 130 | 72 | 69 | 167 | 278 | 1 | 6 | 2 | 122 | 68 | 250 | 165 | 9 | 1 |\n",
       "| 3 | 53 | 2 | 120 | 90 | 70 | 222 | 342 | 4 | 8 | 1 | 132 | 90 | 304 | 223 | 2 | 1 |\n",
       "| 4 | 48 | 4 | 120 | 80 | 72 | 229 | 239 | 4 | 8 | 2 | 118 | 68 | 209 | 227 | 3 | 1 |\n",
       "| 5 | 53 | 3 | 118 | 74 | 66 | 134 | 243 | 3 | 8 | 5 | 118 | 56 | 261 | 138 | 2 | 1 |\n",
       "| 6 | 58 | 2 | 122 | 72 | 69 | 135 | 210 | 3 | 8 | 4 | 130 | 72 | 245 | 136 | 2 | 1 |\n",
       "\n"
      ],
      "text/plain": [
       "  AGE_50 MD_50 SBP_50 DBP_50 HT_50 WT_50 CHOL_50 SES CL_STATUS MD_62 SBP_62\n",
       "1 42     1     110    65     64    147   291     2   8         4     120   \n",
       "2 53     1     130    72     69    167   278     1   6         2     122   \n",
       "3 53     2     120    90     70    222   342     4   8         1     132   \n",
       "4 48     4     120    80     72    229   239     4   8         2     118   \n",
       "5 53     3     118    74     66    134   243     3   8         5     118   \n",
       "6 58     2     122    72     69    135   210     3   8         4     130   \n",
       "  DBP_62 CHOL_62 WT_62 IHD_DX DEATH\n",
       "1 78     271     146   2      1    \n",
       "2 68     250     165   9      1    \n",
       "3 90     304     223   2      1    \n",
       "4 68     209     227   3      1    \n",
       "5 56     261     138   2      1    \n",
       "6 72     245     136   2      1    "
      ]
     },
     "metadata": {},
     "output_type": "display_data"
    }
   ],
   "source": [
    "head(df)"
   ]
  },
  {
   "cell_type": "code",
   "execution_count": 9,
   "metadata": {},
   "outputs": [
    {
     "data": {
      "text/plain": [
       "   \n",
       "      0   1\n",
       "  0 136   0\n",
       "  1   0  64"
      ]
     },
     "metadata": {},
     "output_type": "display_data"
    }
   ],
   "source": [
    "# analyzing the class  variable\n",
    "table(df$DEATH,df$DEATH)"
   ]
  },
  {
   "cell_type": "code",
   "execution_count": 10,
   "metadata": {},
   "outputs": [
    {
     "data": {
      "text/html": [
       "200"
      ],
      "text/latex": [
       "200"
      ],
      "text/markdown": [
       "200"
      ],
      "text/plain": [
       "[1] 200"
      ]
     },
     "metadata": {},
     "output_type": "display_data"
    }
   ],
   "source": [
    "nrow(df)"
   ]
  },
  {
   "cell_type": "code",
   "execution_count": 11,
   "metadata": {},
   "outputs": [],
   "source": [
    "#set seed to ensure reproducible results\n",
    "set.seed(250)\n",
    "#spliting into training and test data sets in 3:1 ratio\n",
    "df[,'train'] <- ifelse(runif(nrow(df))<0.75,1,0)\n",
    "#separate training and test sets\n",
    "train_df <- df[df$train==1,]\n",
    "test_df <- df[df$train==0,]\n",
    "#get column index of train flag\n",
    "df_trainColNum <- grep('train',names(train_df))"
   ]
  },
  {
   "cell_type": "code",
   "execution_count": 12,
   "metadata": {},
   "outputs": [
    {
     "name": "stdout",
     "output_type": "stream",
     "text": [
      "'data.frame':\t151 obs. of  17 variables:\n",
      " $ AGE_50   : int  42 53 60 59 56 58 64 57 32 59 ...\n",
      " $ MD_50    : int  1 2 1 4 3 3 2 2 1 1 ...\n",
      " $ SBP_50   : int  110 120 124 160 115 140 135 110 112 140 ...\n",
      " $ DBP_50   : int  65 90 80 100 80 90 85 78 70 90 ...\n",
      " $ HT_50    : int  64 70 74 72 64 63 64 70 69 65 ...\n",
      " $ WT_50    : int  147 222 235 206 147 121 189 173 171 150 ...\n",
      " $ CHOL_50  : int  291 342 203 269 260 312 185 282 254 303 ...\n",
      " $ SES      : int  2 4 3 5 3 5 1 3 2 2 ...\n",
      " $ CL_STATUS: int  8 8 8 8 8 8 8 8 8 8 ...\n",
      " $ MD_62    : int  4 1 1 3 4 1 4 2 4 1 ...\n",
      " $ SBP_62   : int  120 132 160 150 140 120 140 144 142 205 ...\n",
      " $ DBP_62   : int  78 90 90 100 80 75 78 74 96 85 ...\n",
      " $ CHOL_62  : int  271 304 271 291 326 234 153 236 249 302 ...\n",
      " $ WT_62    : int  146 223 226 198 152 114 168 171 179 153 ...\n",
      " $ IHD_DX   : int  2 2 3 3 2 2 3 2 3 2 ...\n",
      " $ DEATH    : int  1 1 1 1 1 1 1 1 1 1 ...\n",
      " $ train    : num  1 1 1 1 1 1 1 1 1 1 ...\n"
     ]
    }
   ],
   "source": [
    "str(train_df)"
   ]
  },
  {
   "cell_type": "code",
   "execution_count": 13,
   "metadata": {},
   "outputs": [
    {
     "name": "stdout",
     "output_type": "stream",
     "text": [
      "'data.frame':\t49 obs. of  17 variables:\n",
      " $ AGE_50   : int  53 48 53 58 48 40 54 51 46 45 ...\n",
      " $ MD_50    : int  1 4 3 2 4 3 1 4 4 2 ...\n",
      " $ SBP_50   : int  130 120 118 122 130 120 141 120 110 108 ...\n",
      " $ DBP_50   : int  72 80 74 72 90 80 100 80 70 80 ...\n",
      " $ HT_50    : int  69 72 66 69 67 69 65 70 66 70 ...\n",
      " $ WT_50    : int  167 229 134 135 165 148 171 139 160 155 ...\n",
      " $ CHOL_50  : int  278 239 243 210 219 185 363 261 242 258 ...\n",
      " $ SES      : int  1 4 3 3 3 3 3 3 3 5 ...\n",
      " $ CL_STATUS: int  6 8 8 8 8 8 7 8 8 8 ...\n",
      " $ MD_62    : int  2 2 5 4 4 3 2 1 3 4 ...\n",
      " $ SBP_62   : int  122 118 118 130 138 110 180 130 130 138 ...\n",
      " $ DBP_62   : int  68 68 56 72 86 64 100 95 90 88 ...\n",
      " $ CHOL_62  : int  250 209 261 245 275 241 276 285 254 259 ...\n",
      " $ WT_62    : int  165 227 138 136 166 152 154 173 175 182 ...\n",
      " $ IHD_DX   : int  9 3 2 2 2 2 2 6 6 2 ...\n",
      " $ DEATH    : int  1 1 1 1 1 1 1 0 0 0 ...\n",
      " $ train    : num  0 0 0 0 0 0 0 0 0 0 ...\n"
     ]
    }
   ],
   "source": [
    "str(test_df)"
   ]
  },
  {
   "cell_type": "code",
   "execution_count": 14,
   "metadata": {},
   "outputs": [],
   "source": [
    "number.perfect.splits <- apply(X=df[-1], MARGIN = 2, FUN = function(col){\n",
    "t <- table(df$DEATH,col)\n",
    "sum(t == 0)\n",
    "})"
   ]
  },
  {
   "cell_type": "code",
   "execution_count": 15,
   "metadata": {},
   "outputs": [],
   "source": [
    "# Descending order of perfect splits\n",
    "order <- order(number.perfect.splits,decreasing = TRUE)\n",
    "number.perfect.splits <- number.perfect.splits[order]"
   ]
  },
  {
   "cell_type": "code",
   "execution_count": 16,
   "metadata": {},
   "outputs": [
    {
     "data": {
      "image/png": "[encoded data removed]",
      "text/plain": [
       "Plot with title \"Number of perfect splits vs feature\""
      ]
     },
     "metadata": {
      "image/png": {
       "height": 420,
       "width": 420
      }
     },
     "output_type": "display_data"
    }
   ],
   "source": [
    "# Plot graph\n",
    "#par(mar=c(10,2,2,2))\n",
    "barplot(number.perfect.splits,main=\"Number of perfect splits vs feature\",\n",
    "xlab=\"\",ylab=\"Feature\",las=2,border=\"red\",col=\"blue\",density=10)"
   ]
  },
  {
   "cell_type": "code",
   "execution_count": 17,
   "metadata": {},
   "outputs": [],
   "source": [
    "#data splicing\n",
    "set.seed(12345)\n",
    "train <- sample(1:nrow(df),size = ceiling(0.80*nrow(df)),replace = FALSE)\n",
    "# training set\n",
    "df_train <- df[train,]\n",
    "# test set\n",
    "df_test <- df[-train,]"
   ]
  },
  {
   "cell_type": "code",
   "execution_count": 18,
   "metadata": {},
   "outputs": [],
   "source": [
    "# building the classification tree with rpart\n",
    "tree <- rpart(DEATH~.,data=df_train, method = \"class\")"
   ]
  },
  {
   "cell_type": "code",
   "execution_count": 20,
   "metadata": {},
   "outputs": [
    {
     "data": {
      "image/png": "[encoded data removed]",
      "text/plain": [
       "plot without title"
      ]
     },
     "metadata": {
      "image/png": {
       "height": 420,
       "width": 420
      }
     },
     "output_type": "display_data"
    }
   ],
   "source": [
    "#Obtaining the train and test data set\n",
    "#remove train flag column from train and test sets\n",
    "train_df <- train_df[,-df_trainColNum]\n",
    "test_df <- test_df[,-df_trainColNum]\n",
    "#Get column index of predicted variable in dataset\n",
    "typeColNum_df <- grep('DEATH',names(df))\n",
    "#Constructing the required Decision tree model\n",
    "rpart_model_df <- rpart(DEATH~.,data = train_df, method= 'class')\n",
    "# Plotting the tree\n",
    "plot(rpart_model_df)\n",
    "text(rpart_model_df)"
   ]
  },
  {
   "cell_type": "code",
   "execution_count": 21,
   "metadata": {},
   "outputs": [
    {
     "data": {
      "image/png": "[encoded data removed]",
      "text/plain": [
       "plot without title"
      ]
     },
     "metadata": {
      "image/png": {
       "height": 420,
       "width": 420
      }
     },
     "output_type": "display_data"
    }
   ],
   "source": [
    "# Visualize the decision tree with rpart.plot\n",
    "rpart.plot(tree, nn=TRUE, cex=1, box.palette = \"auto\")"
   ]
  },
  {
   "cell_type": "code",
   "execution_count": 24,
   "metadata": {},
   "outputs": [
    {
     "data": {
      "text/plain": [
       "v\n",
       "  0   1 \n",
       "136  64 "
      ]
     },
     "metadata": {},
     "output_type": "display_data"
    }
   ],
   "source": [
    "#There are three level in the class variable, 0 as patient ll survive and 2 patient ll not survive\n",
    "v<-df$DEATH\n",
    "table(v)"
   ]
  },
  {
   "cell_type": "code",
   "execution_count": 26,
   "metadata": {},
   "outputs": [
    {
     "ename": "ERROR",
     "evalue": "Error in parse(text = x, srcfile = src): <text>:1:3: unexpected string constant\n12: str(test_df)\n13: \"\n      ^\n",
     "output_type": "error",
     "traceback": [
      "Error in parse(text = x, srcfile = src): <text>:1:3: unexpected string constant\n12: str(test_df)\n13: \"\n      ^\nTraceback:\n"
     ]
    }
   ],
   "source": [
    "\"\"\"\n",
    "#set seed to ensure reproducible results\n",
    "set.seed(250)\n",
    "#spliting into training and test data sets in 3:1 ratio\n",
    "df[,'train'] <- ifelse(runif(nrow(df))<0.75,1,0)\n",
    "#separate training and test sets\n",
    "train_df <- df[df$train==1,]\n",
    "test_df <- df[df$train==0,]\n",
    "#get column index of train flag\n",
    "df_trainColNum <- grep('train',names(train_df))\n",
    "\n",
    "str(test_df)\n",
    "\"\"\""
   ]
  },
  {
   "cell_type": "code",
   "execution_count": 27,
   "metadata": {},
   "outputs": [
    {
     "name": "stdout",
     "output_type": "stream",
     "text": [
      "Call:\n",
      "rpart(formula = DEATH ~ ., data = train_df, method = \"class\")\n",
      "  n= 151 \n",
      "\n",
      "          CP nsplit rel error    xerror      xstd\n",
      "1 0.26086957      0 1.0000000 1.0000000 0.1229496\n",
      "2 0.06521739      1 0.7391304 0.8260870 0.1159270\n",
      "3 0.04347826      2 0.6739130 0.8695652 0.1178814\n",
      "4 0.01630435      3 0.6304348 0.8913043 0.1188070\n",
      "5 0.01000000      7 0.5652174 0.9782609 0.1221836\n",
      "\n",
      "Variable importance\n",
      "   AGE_50   CHOL_62     WT_50     WT_62     MD_50 CL_STATUS    DBP_50    SBP_50 \n",
      "       29        13        11         9         7         7         7         7 \n",
      "    MD_62     HT_50    DBP_62    IHD_DX \n",
      "        5         3         2         1 \n",
      "\n",
      "Node number 1: 151 observations,    complexity param=0.2608696\n",
      "  predicted class=0  expected loss=0.3046358  P(node) =1\n",
      "    class counts:   105    46\n",
      "   probabilities: 0.695 0.305 \n",
      "  left son=2 (119 obs) right son=3 (32 obs)\n",
      "  Primary splits:\n",
      "      AGE_50  < 55.5  to the left,  improve=11.904180, (0 missing)\n",
      "      CHOL_62 < 203.5 to the right, improve= 4.646556, (0 missing)\n",
      "      MD_50   < 1.5   to the right, improve= 3.096680, (0 missing)\n",
      "      WT_62   < 134.5 to the right, improve= 3.081499, (0 missing)\n",
      "      IHD_DX  < 3.5   to the right, improve= 3.023669, (0 missing)\n",
      "  Surrogate splits:\n",
      "      WT_62   < 126.5 to the right, agree=0.821, adj=0.156, (0 split)\n",
      "      SBP_50  < 156   to the left,  agree=0.808, adj=0.094, (0 split)\n",
      "      WT_50   < 124.5 to the right, agree=0.808, adj=0.094, (0 split)\n",
      "      CHOL_62 < 161   to the right, agree=0.801, adj=0.062, (0 split)\n",
      "      HT_50   < 63.5  to the right, agree=0.795, adj=0.031, (0 split)\n",
      "\n",
      "Node number 2: 119 observations,    complexity param=0.04347826\n",
      "  predicted class=0  expected loss=0.2016807  P(node) =0.7880795\n",
      "    class counts:    95    24\n",
      "   probabilities: 0.798 0.202 \n",
      "  left son=4 (107 obs) right son=5 (12 obs)\n",
      "  Primary splits:\n",
      "      CHOL_62 < 203.5 to the right, improve=3.887864, (0 missing)\n",
      "      CHOL_50 < 206.5 to the right, improve=2.410353, (0 missing)\n",
      "      MD_50   < 1.5   to the right, improve=2.395438, (0 missing)\n",
      "      SBP_62  < 151   to the left,  improve=1.766885, (0 missing)\n",
      "      WT_50   < 210   to the left,  improve=1.526535, (0 missing)\n",
      "  Surrogate splits:\n",
      "      DBP_62 < 62.5  to the right, agree=0.916, adj=0.167, (0 split)\n",
      "      WT_62  < 128.5 to the right, agree=0.908, adj=0.083, (0 split)\n",
      "\n",
      "Node number 3: 32 observations,    complexity param=0.06521739\n",
      "  predicted class=1  expected loss=0.3125  P(node) =0.2119205\n",
      "    class counts:    10    22\n",
      "   probabilities: 0.312 0.688 \n",
      "  left son=6 (7 obs) right son=7 (25 obs)\n",
      "  Primary splits:\n",
      "      CL_STATUS < 7.5   to the left,  improve=2.892857, (0 missing)\n",
      "      CHOL_62   < 250.5 to the left,  improve=2.016667, (0 missing)\n",
      "      HT_50     < 68.5  to the left,  improve=1.313636, (0 missing)\n",
      "      WT_62     < 138.5 to the right, improve=1.313636, (0 missing)\n",
      "      SBP_50    < 155   to the right, improve=1.201429, (0 missing)\n",
      "  Surrogate splits:\n",
      "      SBP_50 < 147.5 to the right, agree=0.875, adj=0.429, (0 split)\n",
      "      DBP_50 < 97.5  to the right, agree=0.875, adj=0.429, (0 split)\n",
      "\n",
      "Node number 4: 107 observations,    complexity param=0.01630435\n",
      "  predicted class=0  expected loss=0.1588785  P(node) =0.7086093\n",
      "    class counts:    90    17\n",
      "   probabilities: 0.841 0.159 \n",
      "  left son=8 (99 obs) right son=9 (8 obs)\n",
      "  Primary splits:\n",
      "      WT_50  < 210   to the left,  improve=2.0122720, (0 missing)\n",
      "      SBP_62 < 151   to the left,  improve=1.0888470, (0 missing)\n",
      "      AGE_50 < 47.5  to the left,  improve=0.9009477, (0 missing)\n",
      "      HT_50  < 64.5  to the right, improve=0.8077268, (0 missing)\n",
      "      WT_62  < 208.5 to the left,  improve=0.8077268, (0 missing)\n",
      "  Surrogate splits:\n",
      "      WT_62  < 235   to the left,  agree=0.944, adj=0.250, (0 split)\n",
      "      DBP_50 < 107   to the left,  agree=0.935, adj=0.125, (0 split)\n",
      "\n",
      "Node number 5: 12 observations\n",
      "  predicted class=1  expected loss=0.4166667  P(node) =0.0794702\n",
      "    class counts:     5     7\n",
      "   probabilities: 0.417 0.583 \n",
      "\n",
      "Node number 6: 7 observations\n",
      "  predicted class=0  expected loss=0.2857143  P(node) =0.04635762\n",
      "    class counts:     5     2\n",
      "   probabilities: 0.714 0.286 \n",
      "\n",
      "Node number 7: 25 observations\n",
      "  predicted class=1  expected loss=0.2  P(node) =0.1655629\n",
      "    class counts:     5    20\n",
      "   probabilities: 0.200 0.800 \n",
      "\n",
      "Node number 8: 99 observations,    complexity param=0.01630435\n",
      "  predicted class=0  expected loss=0.1313131  P(node) =0.6556291\n",
      "    class counts:    86    13\n",
      "   probabilities: 0.869 0.131 \n",
      "  left son=16 (39 obs) right son=17 (60 obs)\n",
      "  Primary splits:\n",
      "      WT_50  < 172   to the right, improve=1.437141, (0 missing)\n",
      "      MD_50  < 1.5   to the right, improve=1.341391, (0 missing)\n",
      "      WT_62  < 179.5 to the right, improve=1.075451, (0 missing)\n",
      "      HT_50  < 64.5  to the right, improve=1.033661, (0 missing)\n",
      "      DBP_50 < 71    to the right, improve=0.931118, (0 missing)\n",
      "  Surrogate splits:\n",
      "      WT_62   < 176.5 to the right, agree=0.899, adj=0.744, (0 split)\n",
      "      HT_50   < 69.5  to the right, agree=0.677, adj=0.179, (0 split)\n",
      "      MD_50   < 3.5   to the right, agree=0.657, adj=0.128, (0 split)\n",
      "      DBP_50  < 101   to the right, agree=0.646, adj=0.103, (0 split)\n",
      "      CHOL_50 < 275   to the right, agree=0.646, adj=0.103, (0 split)\n",
      "\n",
      "Node number 9: 8 observations\n",
      "  predicted class=0  expected loss=0.5  P(node) =0.05298013\n",
      "    class counts:     4     4\n",
      "   probabilities: 0.500 0.500 \n",
      "\n",
      "Node number 16: 39 observations\n",
      "  predicted class=0  expected loss=0.02564103  P(node) =0.2582781\n",
      "    class counts:    38     1\n",
      "   probabilities: 0.974 0.026 \n",
      "\n",
      "Node number 17: 60 observations,    complexity param=0.01630435\n",
      "  predicted class=0  expected loss=0.2  P(node) =0.397351\n",
      "    class counts:    48    12\n",
      "   probabilities: 0.800 0.200 \n",
      "  left son=34 (35 obs) right son=35 (25 obs)\n",
      "  Primary splits:\n",
      "      MD_62  < 2.5   to the left,  improve=2.194286, (0 missing)\n",
      "      MD_50  < 1.5   to the right, improve=1.336364, (0 missing)\n",
      "      SBP_62 < 139   to the left,  improve=1.234286, (0 missing)\n",
      "      AGE_50 < 47.5  to the left,  improve=1.148718, (0 missing)\n",
      "      WT_62  < 140.5 to the left,  improve=1.077551, (0 missing)\n",
      "  Surrogate splits:\n",
      "      DBP_50  < 79    to the right, agree=0.683, adj=0.24, (0 split)\n",
      "      SBP_50  < 113.5 to the right, agree=0.667, adj=0.20, (0 split)\n",
      "      MD_50   < 3.5   to the left,  agree=0.650, adj=0.16, (0 split)\n",
      "      CHOL_62 < 275   to the left,  agree=0.650, adj=0.16, (0 split)\n",
      "      HT_50   < 68.5  to the left,  agree=0.633, adj=0.12, (0 split)\n",
      "\n",
      "Node number 34: 35 observations\n",
      "  predicted class=0  expected loss=0.08571429  P(node) =0.2317881\n",
      "    class counts:    32     3\n",
      "   probabilities: 0.914 0.086 \n",
      "\n",
      "Node number 35: 25 observations,    complexity param=0.01630435\n",
      "  predicted class=0  expected loss=0.36  P(node) =0.1655629\n",
      "    class counts:    16     9\n",
      "   probabilities: 0.640 0.360 \n",
      "  left son=70 (18 obs) right son=71 (7 obs)\n",
      "  Primary splits:\n",
      "      MD_50   < 1.5   to the right, improve=2.4406350, (0 missing)\n",
      "      HT_50   < 67.5  to the right, improve=1.3511690, (0 missing)\n",
      "      CHOL_50 < 270.5 to the left,  improve=0.8692063, (0 missing)\n",
      "      CHOL_62 < 297.5 to the left,  improve=0.8692063, (0 missing)\n",
      "      WT_50   < 146   to the left,  improve=0.5338889, (0 missing)\n",
      "  Surrogate splits:\n",
      "      DBP_50  < 72.5  to the right, agree=0.80, adj=0.286, (0 split)\n",
      "      HT_50   < 65    to the right, agree=0.76, adj=0.143, (0 split)\n",
      "      CHOL_62 < 321   to the left,  agree=0.76, adj=0.143, (0 split)\n",
      "      IHD_DX  < 2.5   to the left,  agree=0.76, adj=0.143, (0 split)\n",
      "\n",
      "Node number 70: 18 observations\n",
      "  predicted class=0  expected loss=0.2222222  P(node) =0.1192053\n",
      "    class counts:    14     4\n",
      "   probabilities: 0.778 0.222 \n",
      "\n",
      "Node number 71: 7 observations\n",
      "  predicted class=1  expected loss=0.2857143  P(node) =0.04635762\n",
      "    class counts:     2     5\n",
      "   probabilities: 0.286 0.714 \n",
      "\n"
     ]
    }
   ],
   "source": [
    "summary(rpart_model_df)"
   ]
  },
  {
   "cell_type": "code",
   "execution_count": 28,
   "metadata": {},
   "outputs": [
    {
     "data": {
      "text/html": [
       "0.530612244897959"
      ],
      "text/latex": [
       "0.530612244897959"
      ],
      "text/markdown": [
       "0.530612244897959"
      ],
      "text/plain": [
       "[1] 0.5306122"
      ]
     },
     "metadata": {},
     "output_type": "display_data"
    }
   ],
   "source": [
    "#Checking how good the model is\n",
    "rpart_predict_df<- predict(rpart_model_df,test_df[,-typeColNum_df],type='class')\n",
    "mn_df <- mean(rpart_predict_df==test_df$DEATH)\n",
    "mn_df"
   ]
  },
  {
   "cell_type": "code",
   "execution_count": 29,
   "metadata": {},
   "outputs": [
    {
     "data": {
      "text/plain": [
       "    true\n",
       "pred  0  1\n",
       "   0 21 13\n",
       "   1 10  5"
      ]
     },
     "metadata": {},
     "output_type": "display_data"
    }
   ],
   "source": [
    "# Constructing the confusion matrix to find out the efficiency of the model\n",
    "table(pred=rpart_predict_df,true=test_df$DEATH)"
   ]
  },
  {
   "cell_type": "code",
   "execution_count": 30,
   "metadata": {},
   "outputs": [],
   "source": [
    "# Constructing the confusion matrix to find out the efficiency of the model\n",
    "t <- table(test_df$DEATH,rpart_predict_df)"
   ]
  },
  {
   "cell_type": "code",
   "execution_count": 31,
   "metadata": {},
   "outputs": [
    {
     "data": {
      "text/plain": [
       "Confusion Matrix and Statistics\n",
       "\n",
       "   rpart_predict_df\n",
       "     0  1\n",
       "  0 21 10\n",
       "  1 13  5\n",
       "                                          \n",
       "               Accuracy : 0.5306          \n",
       "                 95% CI : (0.3827, 0.6747)\n",
       "    No Information Rate : 0.6939          \n",
       "    P-Value [Acc > NIR] : 0.9946          \n",
       "                                          \n",
       "                  Kappa : -0.0464         \n",
       "                                          \n",
       " Mcnemar's Test P-Value : 0.6767          \n",
       "                                          \n",
       "            Sensitivity : 0.6176          \n",
       "            Specificity : 0.3333          \n",
       "         Pos Pred Value : 0.6774          \n",
       "         Neg Pred Value : 0.2778          \n",
       "             Prevalence : 0.6939          \n",
       "         Detection Rate : 0.4286          \n",
       "   Detection Prevalence : 0.6327          \n",
       "      Balanced Accuracy : 0.4755          \n",
       "                                          \n",
       "       'Positive' Class : 0               \n",
       "                                          "
      ]
     },
     "metadata": {},
     "output_type": "display_data"
    }
   ],
   "source": [
    "#install.packages('e1071', dependencies=TRUE)\n",
    "confusionMatrix(t)"
   ]
  },
  {
   "cell_type": "code",
   "execution_count": null,
   "metadata": {},
   "outputs": [],
   "source": []
  }
 ],
 "metadata": {
  "kernelspec": {
   "display_name": "R",
   "language": "R",
   "name": "ir"
  },
  "language_info": {
   "codemirror_mode": "r",
   "file_extension": ".r",
   "mimetype": "text/x-r-source",
   "name": "R",
   "pygments_lexer": "r",
   "version": "4.0.3"
  }
 },
 "nbformat": 4,
 "nbformat_minor": 4
}

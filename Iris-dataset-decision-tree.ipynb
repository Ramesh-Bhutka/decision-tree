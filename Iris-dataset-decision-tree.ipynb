{
 "cells": [
  {
   "cell_type": "markdown",
   "metadata": {},
   "source": [
    "\n",
    "https://machinelearningmastery.com/standard-machine-learning-datasets/\n",
    "\n",
    "The Iris Flowers Dataset involves predicting the flower species given measurements of iris flowers.\n",
    "\n",
    "It is a multi-class classification problem. The number of observations for each class is balanced. There are 150 observations with 4 input variables and 1 output variable. The variable names are as follows:\n",
    "\n",
    "1. Sepal length in cm.\n",
    "2. Sepal width in cm.\n",
    "3. Petal length in cm.\n",
    "4. Petal width in cm.\n",
    "5. Class (Iris Setosa, Iris Versicolour, Iris Virginica).\n"
   ]
  },
  {
   "cell_type": "code",
   "execution_count": 1,
   "metadata": {},
   "outputs": [
    {
     "name": "stderr",
     "output_type": "stream",
     "text": [
      "Loading required package: tibble\n",
      "\n",
      "Loading required package: bitops\n",
      "\n",
      "Rattle: A free graphical interface for data science with R.\n",
      "Version 5.4.0 Copyright (c) 2006-2020 Togaware Pty Ltd.\n",
      "Type 'rattle()' to shake, rattle, and roll your data.\n",
      "\n"
     ]
    }
   ],
   "source": [
    "#Loading libraries\n",
    "library(rpart,quietly = TRUE)\n",
    "library(rpart.plot,quietly = TRUE)\n",
    "library(caret,quietly = TRUE)\n",
    "library(rattle)"
   ]
  },
  {
   "cell_type": "code",
   "execution_count": 2,
   "metadata": {},
   "outputs": [],
   "source": [
    "#find.package('caret')\n",
    "#install.packages('rpart')\n",
    "#install.packages(\"rpart.plot\")\n",
    "#install.packages('rattle')"
   ]
  },
  {
   "cell_type": "code",
   "execution_count": 3,
   "metadata": {},
   "outputs": [],
   "source": [
    "#Reading the data set as a dataframe\n",
    "df <- read.csv (\"https://raw.githubusercontent.com/Ramesh-Bhutka/decision--tree/main/IRIS.csv\")"
   ]
  },
  {
   "cell_type": "code",
   "execution_count": 4,
   "metadata": {},
   "outputs": [
    {
     "name": "stdout",
     "output_type": "stream",
     "text": [
      "'data.frame':\t150 obs. of  5 variables:\n",
      " $ sepal_length: num  5.1 4.9 4.7 4.6 5 5.4 4.6 5 4.4 4.9 ...\n",
      " $ sepal_width : num  3.5 3 3.2 3.1 3.6 3.9 3.4 3.4 2.9 3.1 ...\n",
      " $ petal_length: num  1.4 1.4 1.3 1.5 1.4 1.7 1.4 1.5 1.4 1.5 ...\n",
      " $ petal_width : num  0.2 0.2 0.2 0.2 0.2 0.4 0.3 0.2 0.2 0.1 ...\n",
      " $ species     : chr  \"Iris-setosa\" \"Iris-setosa\" \"Iris-setosa\" \"Iris-setosa\" ...\n"
     ]
    }
   ],
   "source": [
    "str(df)"
   ]
  },
  {
   "cell_type": "code",
   "execution_count": 5,
   "metadata": {},
   "outputs": [
    {
     "data": {
      "text/html": [
       "0"
      ],
      "text/latex": [
       "0"
      ],
      "text/markdown": [
       "0"
      ],
      "text/plain": [
       "[1] 0"
      ]
     },
     "metadata": {},
     "output_type": "display_data"
    }
   ],
   "source": [
    "# number of rows with missing values\n",
    "nrow(df) - sum(complete.cases(df))"
   ]
  },
  {
   "cell_type": "code",
   "execution_count": 6,
   "metadata": {},
   "outputs": [
    {
     "name": "stdout",
     "output_type": "stream",
     "text": [
      "'data.frame':\t150 obs. of  5 variables:\n",
      " $ sepal_length: num  5.1 4.9 4.7 4.6 5 5.4 4.6 5 4.4 4.9 ...\n",
      " $ sepal_width : num  3.5 3 3.2 3.1 3.6 3.9 3.4 3.4 2.9 3.1 ...\n",
      " $ petal_length: num  1.4 1.4 1.3 1.5 1.4 1.7 1.4 1.5 1.4 1.5 ...\n",
      " $ petal_width : num  0.2 0.2 0.2 0.2 0.2 0.4 0.3 0.2 0.2 0.1 ...\n",
      " $ species     : num  1 1 1 1 1 1 1 1 1 1 ...\n"
     ]
    }
   ],
   "source": [
    "#Converting the class variable into factor\n",
    "df$species<-as.factor(df$species) \n",
    "df$species<-as.numeric(df$species)  \n",
    "str(df)"
   ]
  },
  {
   "cell_type": "code",
   "execution_count": 7,
   "metadata": {},
   "outputs": [
    {
     "data": {
      "text/plain": [
       "   \n",
       "     1  2  3\n",
       "  1 50  0  0\n",
       "  2  0 50  0\n",
       "  3  0  0 50"
      ]
     },
     "metadata": {},
     "output_type": "display_data"
    }
   ],
   "source": [
    "# analyzing the class  variable\n",
    "table(df$species,df$species)"
   ]
  },
  {
   "cell_type": "code",
   "execution_count": 8,
   "metadata": {},
   "outputs": [
    {
     "data": {
      "text/html": [
       "150"
      ],
      "text/latex": [
       "150"
      ],
      "text/markdown": [
       "150"
      ],
      "text/plain": [
       "[1] 150"
      ]
     },
     "metadata": {},
     "output_type": "display_data"
    }
   ],
   "source": [
    "nrow(df)"
   ]
  },
  {
   "cell_type": "code",
   "execution_count": 9,
   "metadata": {},
   "outputs": [
    {
     "data": {
      "text/plain": [
       "v\n",
       " 1  2  3 \n",
       "50 50 50 "
      ]
     },
     "metadata": {},
     "output_type": "display_data"
    }
   ],
   "source": [
    "#There are three level in the class variable, 1 as setosa and 2 as versicolor\n",
    "#3 as Virginica\n",
    "v<-df$species\n",
    "table(v)"
   ]
  },
  {
   "cell_type": "code",
   "execution_count": 10,
   "metadata": {},
   "outputs": [
    {
     "name": "stdout",
     "output_type": "stream",
     "text": [
      "'data.frame':\t36 obs. of  6 variables:\n",
      " $ sepal_length: num  4.9 4.6 5 5.4 4.6 4.9 5.1 5 5.2 4.8 ...\n",
      " $ sepal_width : num  3 3.1 3.6 3.9 3.4 3.1 3.7 3 3.5 3.1 ...\n",
      " $ petal_length: num  1.4 1.5 1.4 1.7 1.4 1.5 1.5 1.6 1.5 1.6 ...\n",
      " $ petal_width : num  0.2 0.2 0.2 0.4 0.3 0.1 0.4 0.2 0.2 0.2 ...\n",
      " $ species     : num  1 1 1 1 1 1 1 1 1 1 ...\n",
      " $ train       : num  0 0 0 0 0 0 0 0 0 0 ...\n"
     ]
    }
   ],
   "source": [
    "#set seed to ensure reproducible results\n",
    "set.seed(250)\n",
    "#spliting into training and test data sets in 3:1 ratio\n",
    "df[,'train'] <- ifelse(runif(nrow(df))<0.75,1,0)\n",
    "#separate training and test sets\n",
    "train_df <- df[df$train==1,]\n",
    "test_df <- df[df$train==0,]\n",
    "#get column index of train flag\n",
    "df_trainColNum <- grep('train',names(train_df))\n",
    "str(test_df)"
   ]
  },
  {
   "cell_type": "code",
   "execution_count": 11,
   "metadata": {},
   "outputs": [],
   "source": [
    "number.perfect.splits <- apply(X=df[-1], MARGIN = 2, FUN = function(col){\n",
    "t <- table(df$species,col)\n",
    "sum(t == 0)\n",
    "})"
   ]
  },
  {
   "cell_type": "code",
   "execution_count": 12,
   "metadata": {},
   "outputs": [],
   "source": [
    "# Descending order of perfect splits\n",
    "order <- order(number.perfect.splits,decreasing = TRUE)\n",
    "number.perfect.splits <- number.perfect.splits[order]"
   ]
  },
  {
   "cell_type": "code",
   "execution_count": 13,
   "metadata": {},
   "outputs": [
    {
     "data": {
      "image/png": "[encoded data removed]",
      "text/plain": [
       "Plot with title \"Number of perfect splits vs feature\""
      ]
     },
     "metadata": {
      "image/png": {
       "height": 420,
       "width": 420
      }
     },
     "output_type": "display_data"
    }
   ],
   "source": [
    "# Plot graph\n",
    "#par(mar=c(10,2,2,2))\n",
    "barplot(number.perfect.splits,main=\"Number of perfect splits vs feature\",\n",
    "xlab=\"\",ylab=\"Feature\",las=2,border=\"red\",\n",
    "col=\"blue\",\n",
    "density=10)"
   ]
  },
  {
   "cell_type": "code",
   "execution_count": 14,
   "metadata": {},
   "outputs": [
    {
     "data": {
      "image/png": "[encoded data removed]",
      "text/plain": [
       "plot without title"
      ]
     },
     "metadata": {
      "image/png": {
       "height": 420,
       "width": 420
      }
     },
     "output_type": "display_data"
    }
   ],
   "source": [
    "#Obtaining the train and test data set\n",
    "#remove train flag column from train and test sets\n",
    "train_df <- train_df[,-df_trainColNum]\n",
    "test_df <- test_df[,-df_trainColNum]\n",
    "#Get column index of predicted variable in dataset\n",
    "typeColNum_df <- grep('species',names(df))\n",
    "#Constructing the required Decision tree model\n",
    "rpart_model_df <- rpart(species~.,data = train_df, method= 'class')\n",
    "# Plotting the tree\n",
    "plot(rpart_model_df)\n",
    "text(rpart_model_df)"
   ]
  },
  {
   "cell_type": "code",
   "execution_count": 15,
   "metadata": {},
   "outputs": [
    {
     "data": {
      "image/png": "[encoded data removed]",
      "text/plain": [
       "plot without title"
      ]
     },
     "metadata": {
      "image/png": {
       "height": 420,
       "width": 420
      }
     },
     "output_type": "display_data"
    }
   ],
   "source": [
    "# Visualize the decision tree with rpart.plot\n",
    "rpart.plot(rpart_model_df, nn=TRUE, cex=1, box.palette = \"auto\")"
   ]
  },
  {
   "cell_type": "code",
   "execution_count": 16,
   "metadata": {},
   "outputs": [
    {
     "name": "stdout",
     "output_type": "stream",
     "text": [
      "Call:\n",
      "rpart(formula = species ~ ., data = train_df, method = \"class\")\n",
      "  n= 114 \n",
      "\n",
      "         CP nsplit  rel error    xerror       xstd\n",
      "1 0.4933333      0 1.00000000 1.2133333 0.05713088\n",
      "2 0.4533333      1 0.50666667 0.8533333 0.07064173\n",
      "3 0.0100000      2 0.05333333 0.1066667 0.03636505\n",
      "\n",
      "Variable importance\n",
      "petal_length  petal_width sepal_length  sepal_width \n",
      "          33           30           23           13 \n",
      "\n",
      "Node number 1: 114 observations,    complexity param=0.4933333\n",
      "  predicted class=2  expected loss=0.6578947  P(node) =1\n",
      "    class counts:    37    39    38\n",
      "   probabilities: 0.325 0.342 0.333 \n",
      "  left son=2 (37 obs) right son=3 (77 obs)\n",
      "  Primary splits:\n",
      "      petal_length < 2.6  to the left,  improve=37.48895, (0 missing)\n",
      "      petal_width  < 0.8  to the left,  improve=37.48895, (0 missing)\n",
      "      sepal_length < 5.45 to the left,  improve=24.13058, (0 missing)\n",
      "      sepal_width  < 3.35 to the right, improve=14.87645, (0 missing)\n",
      "  Surrogate splits:\n",
      "      petal_width  < 0.8  to the left,  agree=1.000, adj=1.000, (0 split)\n",
      "      sepal_length < 5.45 to the left,  agree=0.912, adj=0.730, (0 split)\n",
      "      sepal_width  < 3.35 to the right, agree=0.842, adj=0.514, (0 split)\n",
      "\n",
      "Node number 2: 37 observations\n",
      "  predicted class=1  expected loss=0  P(node) =0.3245614\n",
      "    class counts:    37     0     0\n",
      "   probabilities: 1.000 0.000 0.000 \n",
      "\n",
      "Node number 3: 77 observations,    complexity param=0.4533333\n",
      "  predicted class=2  expected loss=0.4935065  P(node) =0.6754386\n",
      "    class counts:     0    39    38\n",
      "   probabilities: 0.000 0.506 0.494 \n",
      "  left son=6 (37 obs) right son=7 (40 obs)\n",
      "  Primary splits:\n",
      "      petal_length < 4.85 to the left,  improve=30.997560, (0 missing)\n",
      "      petal_width  < 1.75 to the left,  improve=29.312550, (0 missing)\n",
      "      sepal_length < 6.25 to the left,  improve=11.055410, (0 missing)\n",
      "      sepal_width  < 2.45 to the left,  improve= 2.980435, (0 missing)\n",
      "  Surrogate splits:\n",
      "      petal_width  < 1.65 to the left,  agree=0.909, adj=0.811, (0 split)\n",
      "      sepal_length < 6.25 to the left,  agree=0.818, adj=0.622, (0 split)\n",
      "      sepal_width  < 2.95 to the left,  agree=0.649, adj=0.270, (0 split)\n",
      "\n",
      "Node number 6: 37 observations\n",
      "  predicted class=2  expected loss=0.02702703  P(node) =0.3245614\n",
      "    class counts:     0    36     1\n",
      "   probabilities: 0.000 0.973 0.027 \n",
      "\n",
      "Node number 7: 40 observations\n",
      "  predicted class=3  expected loss=0.075  P(node) =0.3508772\n",
      "    class counts:     0     3    37\n",
      "   probabilities: 0.000 0.075 0.925 \n",
      "\n"
     ]
    }
   ],
   "source": [
    "summary(rpart_model_df)"
   ]
  },
  {
   "cell_type": "code",
   "execution_count": 17,
   "metadata": {},
   "outputs": [
    {
     "data": {
      "text/html": [
       "0.916666666666667"
      ],
      "text/latex": [
       "0.916666666666667"
      ],
      "text/markdown": [
       "0.916666666666667"
      ],
      "text/plain": [
       "[1] 0.9166667"
      ]
     },
     "metadata": {},
     "output_type": "display_data"
    }
   ],
   "source": [
    "#Checking how good the model is\n",
    "rpart_predict_df<- predict(rpart_model_df,test_df[,-typeColNum_df],type='class')\n",
    "mn_df <- mean(rpart_predict_df==test_df$species)\n",
    "mn_df"
   ]
  },
  {
   "cell_type": "code",
   "execution_count": 18,
   "metadata": {},
   "outputs": [
    {
     "data": {
      "text/plain": [
       "    true\n",
       "pred  1  2  3\n",
       "   1 13  0  0\n",
       "   2  0 10  2\n",
       "   3  0  1 10"
      ]
     },
     "metadata": {},
     "output_type": "display_data"
    }
   ],
   "source": [
    "# Constructing the confusion matrix to find out the efficiency of the model\n",
    "table(pred=rpart_predict_df,true=test_df$species)"
   ]
  },
  {
   "cell_type": "code",
   "execution_count": 20,
   "metadata": {},
   "outputs": [],
   "source": [
    "# Constructing the confusion matrix to find out the efficiency of the model\n",
    "t <- table(test_df$species,rpart_predict_df)"
   ]
  },
  {
   "cell_type": "code",
   "execution_count": 21,
   "metadata": {},
   "outputs": [
    {
     "data": {
      "text/plain": [
       "Confusion Matrix and Statistics\n",
       "\n",
       "   rpart_predict_df\n",
       "     1  2  3\n",
       "  1 13  0  0\n",
       "  2  0 10  1\n",
       "  3  0  2 10\n",
       "\n",
       "Overall Statistics\n",
       "                                          \n",
       "               Accuracy : 0.9167          \n",
       "                 95% CI : (0.7753, 0.9825)\n",
       "    No Information Rate : 0.3611          \n",
       "    P-Value [Acc > NIR] : 4.942e-12       \n",
       "                                          \n",
       "                  Kappa : 0.8749          \n",
       "                                          \n",
       " Mcnemar's Test P-Value : NA              \n",
       "\n",
       "Statistics by Class:\n",
       "\n",
       "                     Class: 1 Class: 2 Class: 3\n",
       "Sensitivity            1.0000   0.8333   0.9091\n",
       "Specificity            1.0000   0.9583   0.9200\n",
       "Pos Pred Value         1.0000   0.9091   0.8333\n",
       "Neg Pred Value         1.0000   0.9200   0.9583\n",
       "Prevalence             0.3611   0.3333   0.3056\n",
       "Detection Rate         0.3611   0.2778   0.2778\n",
       "Detection Prevalence   0.3611   0.3056   0.3333\n",
       "Balanced Accuracy      1.0000   0.8958   0.9145"
      ]
     },
     "metadata": {},
     "output_type": "display_data"
    }
   ],
   "source": [
    "#install.packages('e1071', dependencies=TRUE)\n",
    "confusionMatrix(t)"
   ]
  },
  {
   "cell_type": "code",
   "execution_count": null,
   "metadata": {},
   "outputs": [],
   "source": []
  }
 ],
 "metadata": {
  "kernelspec": {
   "display_name": "R",
   "language": "R",
   "name": "ir"
  },
  "language_info": {
   "codemirror_mode": "r",
   "file_extension": ".r",
   "mimetype": "text/x-r-source",
   "name": "R",
   "pygments_lexer": "r",
   "version": "4.0.3"
  }
 },
 "nbformat": 4,
 "nbformat_minor": 4
}
